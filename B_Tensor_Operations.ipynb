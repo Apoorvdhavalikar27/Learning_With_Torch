{
 "cells": [
  {
   "cell_type": "markdown",
   "metadata": {},
   "source": [
    "# Tensor Operations"
   ]
  },
  {
   "cell_type": "code",
   "execution_count": 1,
   "metadata": {},
   "outputs": [],
   "source": [
    "import torch\n",
    "z1 = torch.tensor([2,4,6,8,9,15,7,0,1,11])\n",
    "z2 = torch.tensor([1,3,5,6,7,11,4,2,9,10])"
   ]
  },
  {
   "cell_type": "code",
   "execution_count": 2,
   "metadata": {},
   "outputs": [
    {
     "data": {
      "text/plain": [
       "tensor([ 3,  7, 11, 14, 16, 26, 11,  2, 10, 21])"
      ]
     },
     "execution_count": 2,
     "metadata": {},
     "output_type": "execute_result"
    }
   ],
   "source": [
    "# add\n",
    "z1 + z2\n",
    "# or\n",
    "torch.add(z1,z2)"
   ]
  },
  {
   "cell_type": "code",
   "execution_count": 3,
   "metadata": {},
   "outputs": [
    {
     "data": {
      "text/plain": [
       "tensor([ 1,  1,  1,  2,  2,  4,  3, -2, -8,  1])"
      ]
     },
     "execution_count": 3,
     "metadata": {},
     "output_type": "execute_result"
    }
   ],
   "source": [
    "# sub\n",
    "z1 - z2\n",
    "# or\n",
    "torch.sub(z1,z2)"
   ]
  },
  {
   "cell_type": "code",
   "execution_count": 4,
   "metadata": {},
   "outputs": [
    {
     "data": {
      "text/plain": [
       "tensor([2.0000, 1.3333, 1.2000, 1.3333, 1.2857, 1.3636, 1.7500, 0.0000, 0.1111,\n",
       "        1.1000])"
      ]
     },
     "execution_count": 4,
     "metadata": {},
     "output_type": "execute_result"
    }
   ],
   "source": [
    "# div\n",
    "z1 / z2\n",
    "# or\n",
    "torch.divide(z1,z2)\n",
    "# or\n",
    "torch.true_divide(z1,z2)"
   ]
  },
  {
   "cell_type": "code",
   "execution_count": 5,
   "metadata": {},
   "outputs": [
    {
     "data": {
      "text/plain": [
       "tensor([  2,  12,  30,  48,  63, 165,  28,   0,   9, 110])"
      ]
     },
     "execution_count": 5,
     "metadata": {},
     "output_type": "execute_result"
    }
   ],
   "source": [
    "# mul\n",
    "z1 * z2\n",
    "# or\n",
    "torch.mul(z1,z2)\n",
    "# or\n",
    "torch.multiply(z1,z2)"
   ]
  },
  {
   "cell_type": "code",
   "execution_count": 6,
   "metadata": {},
   "outputs": [
    {
     "data": {
      "text/plain": [
       "tensor([ 4.,  8., 12., 16., 18., 30., 14.,  0.,  2., 22.])"
      ]
     },
     "execution_count": 6,
     "metadata": {},
     "output_type": "execute_result"
    }
   ],
   "source": [
    "# **Importent**\n",
    "# Inplace Operation\n",
    "y = torch.empty(10) \n",
    "y += z1\n",
    "y\n",
    "\n",
    "# or\n",
    "\n",
    "x = torch.empty(10)\n",
    "x.add_(z1)"
   ]
  },
  {
   "cell_type": "code",
   "execution_count": 7,
   "metadata": {},
   "outputs": [
    {
     "data": {
      "text/plain": [
       "tensor([   8,   64,  216,  512,  729, 3375,  343,    0,    1, 1331])"
      ]
     },
     "execution_count": 7,
     "metadata": {},
     "output_type": "execute_result"
    }
   ],
   "source": [
    "# Exponention\n",
    "\n",
    "p = z1.pow(3)\n",
    "p\n",
    "# or\n",
    "q = z1**3\n",
    "q"
   ]
  },
  {
   "cell_type": "code",
   "execution_count": 8,
   "metadata": {},
   "outputs": [
    {
     "data": {
      "text/plain": [
       "tensor([[0.5899, 1.1718, 1.2811, 0.5284],\n",
       "        [0.6845, 1.1261, 1.1631, 0.4851]])"
      ]
     },
     "execution_count": 8,
     "metadata": {},
     "output_type": "execute_result"
    }
   ],
   "source": [
    "# **Importent**\n",
    "# Matrix Multiplication\n",
    "a1 = torch.rand((2,3))\n",
    "a2 = torch.rand((3,4))\n",
    "torch.mm(a1,a2)\n",
    "# or\n",
    "b = a1.mm(a2)\n",
    "b"
   ]
  },
  {
   "cell_type": "code",
   "execution_count": 9,
   "metadata": {},
   "outputs": [
    {
     "data": {
      "text/plain": [
       "tensor([[1.9277, 0.5397, 1.0630],\n",
       "        [1.0953, 0.3012, 0.6024],\n",
       "        [1.9301, 0.5393, 1.0572]])"
      ]
     },
     "execution_count": 9,
     "metadata": {},
     "output_type": "execute_result"
    }
   ],
   "source": [
    "# Matrix Exponention\n",
    "c = torch.rand((3,3))\n",
    "c.matrix_power(3)"
   ]
  },
  {
   "cell_type": "code",
   "execution_count": 10,
   "metadata": {},
   "outputs": [
    {
     "data": {
      "text/plain": [
       "tensor(467)"
      ]
     },
     "execution_count": 10,
     "metadata": {},
     "output_type": "execute_result"
    }
   ],
   "source": [
    "# Element wise multiplication\n",
    "z1 * z2\n",
    "# **Importent**\n",
    "# Dot product\n",
    "torch.dot(z1,z2)\n",
    "# or\n",
    "z1.dot(z2)"
   ]
  },
  {
   "cell_type": "code",
   "execution_count": 11,
   "metadata": {},
   "outputs": [
    {
     "data": {
      "text/plain": [
       "(tensor([[ 0.0593,  0.0918, -0.3587, -0.1733, -0.1800],\n",
       "         [-0.2942, -0.7819,  0.0555, -0.2086,  0.1548],\n",
       "         [-0.5944, -0.8465,  0.0645, -0.2921,  0.5024],\n",
       "         [ 0.1783, -0.5360, -0.1148, -0.8899,  0.1237],\n",
       "         [-0.5267, -0.6196, -0.7582,  0.0305, -0.2767]]),\n",
       " tensor([[0.4371, 0.9081, 0.3430, 0.7675, 0.1155],\n",
       "         [0.2136, 0.1147, 0.6709, 0.7333, 0.2633],\n",
       "         [0.0239, 0.0560, 0.6781, 0.6527, 0.4167],\n",
       "         [0.5123, 0.3380, 0.5361, 0.0746, 0.2495],\n",
       "         [0.0666, 0.2620, 0.0266, 0.9646, 0.0728]]))"
      ]
     },
     "execution_count": 11,
     "metadata": {},
     "output_type": "execute_result"
    }
   ],
   "source": [
    "# **Important**\n",
    "# Broadcasting\n",
    "m = torch.rand((5,5))\n",
    "n = torch.rand((1,5))\n",
    "# Here we can not substract or multiply n & m , as they have incompatible size\n",
    "# But pytorch support Overloading i.e. n is subtracted from m 5 times\n",
    "k1 = m - n \n",
    "k2 = m*n\n",
    "k1,k2"
   ]
  },
  {
   "cell_type": "code",
   "execution_count": 12,
   "metadata": {},
   "outputs": [
    {
     "data": {
      "text/plain": [
       "(tensor(15), tensor(5))"
      ]
     },
     "execution_count": 12,
     "metadata": {},
     "output_type": "execute_result"
    }
   ],
   "source": [
    "# Other Inbuilt Operations\n",
    "maxn,ids = torch.max(z1,dim=0)\n",
    "maxn,ids"
   ]
  },
  {
   "cell_type": "code",
   "execution_count": 13,
   "metadata": {},
   "outputs": [
    {
     "data": {
      "text/plain": [
       "(tensor(0), tensor(7))"
      ]
     },
     "execution_count": 13,
     "metadata": {},
     "output_type": "execute_result"
    }
   ],
   "source": [
    "minn,ids = torch.min(z1,dim=0)\n",
    "minn,ids"
   ]
  },
  {
   "cell_type": "code",
   "execution_count": 14,
   "metadata": {},
   "outputs": [
    {
     "data": {
      "text/plain": [
       "tensor([1, 1, 1, 2, 2, 4, 3, 2, 8, 1])"
      ]
     },
     "execution_count": 14,
     "metadata": {},
     "output_type": "execute_result"
    }
   ],
   "source": [
    "# absolute value\n",
    "torch.abs(z1-z2)"
   ]
  },
  {
   "cell_type": "code",
   "execution_count": 15,
   "metadata": {},
   "outputs": [
    {
     "data": {
      "text/plain": [
       "tensor(5)"
      ]
     },
     "execution_count": 15,
     "metadata": {},
     "output_type": "execute_result"
    }
   ],
   "source": [
    "# **Importent**\n",
    "torch.argmax(z1,dim = 0)"
   ]
  },
  {
   "cell_type": "code",
   "execution_count": 16,
   "metadata": {},
   "outputs": [
    {
     "data": {
      "text/plain": [
       "tensor(6.3000)"
      ]
     },
     "execution_count": 16,
     "metadata": {},
     "output_type": "execute_result"
    }
   ],
   "source": [
    "# ***Importent***\n",
    "torch.mean(z1.float())\n",
    "# We have to use float() to get mean"
   ]
  },
  {
   "cell_type": "code",
   "execution_count": 17,
   "metadata": {},
   "outputs": [
    {
     "data": {
      "text/plain": [
       "tensor([False, False, False, False, False, False, False, False, False, False])"
      ]
     },
     "execution_count": 17,
     "metadata": {},
     "output_type": "execute_result"
    }
   ],
   "source": [
    "# ****Importent****\n",
    "# Compare\n",
    "z1.eq(z2)"
   ]
  },
  {
   "cell_type": "code",
   "execution_count": 18,
   "metadata": {},
   "outputs": [
    {
     "data": {
      "text/plain": [
       "torch.return_types.sort(\n",
       "values=tensor([ 0,  1,  2,  4,  6,  7,  8,  9, 11, 15]),\n",
       "indices=tensor([7, 8, 0, 1, 2, 6, 3, 4, 9, 5]))"
      ]
     },
     "execution_count": 18,
     "metadata": {},
     "output_type": "execute_result"
    }
   ],
   "source": [
    "# ****Importent*****\n",
    "# Sorting\n",
    "torch.sort(z1)"
   ]
  },
  {
   "cell_type": "code",
   "execution_count": 19,
   "metadata": {},
   "outputs": [
    {
     "data": {
      "text/plain": [
       "(tensor([ 5,  5,  6,  8,  9, 15,  7,  5,  5, 11]),\n",
       " tensor([2, 4, 6, 8, 8, 8, 7, 0, 1, 8]),\n",
       " tensor([5, 5, 6, 8, 8, 8, 7, 5, 5, 8]))"
      ]
     },
     "execution_count": 19,
     "metadata": {},
     "output_type": "execute_result"
    }
   ],
   "source": [
    "# ******Importent*****\n",
    "# Clamp method: used to calculate range between two numbers\n",
    "atleast5 = torch.clamp(z1 , min = 5)\n",
    "atmost8 = torch.clamp(z1 , max =8)\n",
    "btn5n8 = torch.clamp(z1 , min = 5,max = 8)\n",
    "atleast5,atmost8,btn5n8"
   ]
  },
  {
   "cell_type": "code",
   "execution_count": 20,
   "metadata": {},
   "outputs": [
    {
     "data": {
      "text/plain": [
       "(tensor(True), tensor(False))"
      ]
     },
     "execution_count": 20,
     "metadata": {},
     "output_type": "execute_result"
    }
   ],
   "source": [
    "# **********Importent*******\n",
    "# Any & all methods\n",
    "# Any:return when at leats one is true\n",
    "# All:return when all the values are true\n",
    "x1 = torch.tensor([1,1,1,0,1], dtype = torch.bool)\n",
    "torch.any(x1),torch.all(x1)"
   ]
  }
 ],
 "metadata": {
  "celltoolbar": "Raw Cell Format",
  "kernelspec": {
   "display_name": "Python 3",
   "language": "python",
   "name": "python3"
  },
  "language_info": {
   "codemirror_mode": {
    "name": "ipython",
    "version": 3
   },
   "file_extension": ".py",
   "mimetype": "text/x-python",
   "name": "python",
   "nbconvert_exporter": "python",
   "pygments_lexer": "ipython3",
   "version": "3.8.5"
  }
 },
 "nbformat": 4,
 "nbformat_minor": 4
}
