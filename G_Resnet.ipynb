{
  "nbformat": 4,
  "nbformat_minor": 0,
  "metadata": {
    "colab": {
      "name": "G_Resnet.ipynb",
      "provenance": [],
      "mount_file_id": "1oWaJ7wml_tNQv3wlw-hrMAbPn9dL4tTS",
      "authorship_tag": "ABX9TyMPtL043ejAzC0ZNkg9Rmoc",
      "include_colab_link": true
    },
    "kernelspec": {
      "name": "python3",
      "display_name": "Python 3"
    },
    "language_info": {
      "name": "python"
    },
    "accelerator": "GPU"
  },
  "cells": [
    {
      "cell_type": "markdown",
      "metadata": {
        "id": "view-in-github",
        "colab_type": "text"
      },
      "source": [
        "<a href=\"https://colab.research.google.com/github/Apoorvdhavalikar27/Learning_With_Torch/blob/main/G_Resnet.ipynb\" target=\"_parent\"><img src=\"https://colab.research.google.com/assets/colab-badge.svg\" alt=\"Open In Colab\"/></a>"
      ]
    },
    {
      "cell_type": "code",
      "metadata": {
        "id": "EPOQum4LOsEM"
      },
      "source": [
        "import torch\n",
        "import torchvision\n",
        "from torchvision import models,transforms\n",
        "import torch.nn as nn\n",
        "import torch.nn.functional as F"
      ],
      "execution_count": 1,
      "outputs": []
    },
    {
      "cell_type": "code",
      "metadata": {
        "colab": {
          "base_uri": "https://localhost:8080/"
        },
        "id": "UXDIH2Xc0oMT",
        "outputId": "fff5ca26-04a8-4539-9ff5-5abdf10b8f9d"
      },
      "source": [
        "dir(models)"
      ],
      "execution_count": 2,
      "outputs": [
        {
          "output_type": "execute_result",
          "data": {
            "text/plain": [
              "['AlexNet',\n",
              " 'DenseNet',\n",
              " 'GoogLeNet',\n",
              " 'GoogLeNetOutputs',\n",
              " 'Inception3',\n",
              " 'InceptionOutputs',\n",
              " 'MNASNet',\n",
              " 'MobileNetV2',\n",
              " 'MobileNetV3',\n",
              " 'ResNet',\n",
              " 'ShuffleNetV2',\n",
              " 'SqueezeNet',\n",
              " 'VGG',\n",
              " '_GoogLeNetOutputs',\n",
              " '_InceptionOutputs',\n",
              " '__builtins__',\n",
              " '__cached__',\n",
              " '__doc__',\n",
              " '__file__',\n",
              " '__loader__',\n",
              " '__name__',\n",
              " '__package__',\n",
              " '__path__',\n",
              " '__spec__',\n",
              " '_utils',\n",
              " 'alexnet',\n",
              " 'densenet',\n",
              " 'densenet121',\n",
              " 'densenet161',\n",
              " 'densenet169',\n",
              " 'densenet201',\n",
              " 'detection',\n",
              " 'googlenet',\n",
              " 'inception',\n",
              " 'inception_v3',\n",
              " 'mnasnet',\n",
              " 'mnasnet0_5',\n",
              " 'mnasnet0_75',\n",
              " 'mnasnet1_0',\n",
              " 'mnasnet1_3',\n",
              " 'mobilenet',\n",
              " 'mobilenet_v2',\n",
              " 'mobilenet_v3_large',\n",
              " 'mobilenet_v3_small',\n",
              " 'mobilenetv2',\n",
              " 'mobilenetv3',\n",
              " 'quantization',\n",
              " 'resnet',\n",
              " 'resnet101',\n",
              " 'resnet152',\n",
              " 'resnet18',\n",
              " 'resnet34',\n",
              " 'resnet50',\n",
              " 'resnext101_32x8d',\n",
              " 'resnext50_32x4d',\n",
              " 'segmentation',\n",
              " 'shufflenet_v2_x0_5',\n",
              " 'shufflenet_v2_x1_0',\n",
              " 'shufflenet_v2_x1_5',\n",
              " 'shufflenet_v2_x2_0',\n",
              " 'shufflenetv2',\n",
              " 'squeezenet',\n",
              " 'squeezenet1_0',\n",
              " 'squeezenet1_1',\n",
              " 'utils',\n",
              " 'vgg',\n",
              " 'vgg11',\n",
              " 'vgg11_bn',\n",
              " 'vgg13',\n",
              " 'vgg13_bn',\n",
              " 'vgg16',\n",
              " 'vgg16_bn',\n",
              " 'vgg19',\n",
              " 'vgg19_bn',\n",
              " 'video',\n",
              " 'wide_resnet101_2',\n",
              " 'wide_resnet50_2']"
            ]
          },
          "metadata": {
            "tags": []
          },
          "execution_count": 2
        }
      ]
    },
    {
      "cell_type": "code",
      "metadata": {
        "id": "EA2iwtcT1IJE"
      },
      "source": [
        "alexnet = models.AlexNet()"
      ],
      "execution_count": 3,
      "outputs": []
    },
    {
      "cell_type": "markdown",
      "metadata": {
        "id": "JVJHmDVdJcpg"
      },
      "source": [
        "Create ResNet Object"
      ]
    },
    {
      "cell_type": "code",
      "metadata": {
        "id": "7tr74-W22qdN"
      },
      "source": [
        "resnet = models.resnet101(pretrained = True)"
      ],
      "execution_count": 4,
      "outputs": []
    },
    {
      "cell_type": "code",
      "metadata": {
        "colab": {
          "base_uri": "https://localhost:8080/"
        },
        "id": "Ei-YOVEJ22zo",
        "outputId": "bbdb390e-8e64-4f95-c9f1-fea682e82942"
      },
      "source": [
        "resnet"
      ],
      "execution_count": 5,
      "outputs": [
        {
          "output_type": "execute_result",
          "data": {
            "text/plain": [
              "ResNet(\n",
              "  (conv1): Conv2d(3, 64, kernel_size=(7, 7), stride=(2, 2), padding=(3, 3), bias=False)\n",
              "  (bn1): BatchNorm2d(64, eps=1e-05, momentum=0.1, affine=True, track_running_stats=True)\n",
              "  (relu): ReLU(inplace=True)\n",
              "  (maxpool): MaxPool2d(kernel_size=3, stride=2, padding=1, dilation=1, ceil_mode=False)\n",
              "  (layer1): Sequential(\n",
              "    (0): Bottleneck(\n",
              "      (conv1): Conv2d(64, 64, kernel_size=(1, 1), stride=(1, 1), bias=False)\n",
              "      (bn1): BatchNorm2d(64, eps=1e-05, momentum=0.1, affine=True, track_running_stats=True)\n",
              "      (conv2): Conv2d(64, 64, kernel_size=(3, 3), stride=(1, 1), padding=(1, 1), bias=False)\n",
              "      (bn2): BatchNorm2d(64, eps=1e-05, momentum=0.1, affine=True, track_running_stats=True)\n",
              "      (conv3): Conv2d(64, 256, kernel_size=(1, 1), stride=(1, 1), bias=False)\n",
              "      (bn3): BatchNorm2d(256, eps=1e-05, momentum=0.1, affine=True, track_running_stats=True)\n",
              "      (relu): ReLU(inplace=True)\n",
              "      (downsample): Sequential(\n",
              "        (0): Conv2d(64, 256, kernel_size=(1, 1), stride=(1, 1), bias=False)\n",
              "        (1): BatchNorm2d(256, eps=1e-05, momentum=0.1, affine=True, track_running_stats=True)\n",
              "      )\n",
              "    )\n",
              "    (1): Bottleneck(\n",
              "      (conv1): Conv2d(256, 64, kernel_size=(1, 1), stride=(1, 1), bias=False)\n",
              "      (bn1): BatchNorm2d(64, eps=1e-05, momentum=0.1, affine=True, track_running_stats=True)\n",
              "      (conv2): Conv2d(64, 64, kernel_size=(3, 3), stride=(1, 1), padding=(1, 1), bias=False)\n",
              "      (bn2): BatchNorm2d(64, eps=1e-05, momentum=0.1, affine=True, track_running_stats=True)\n",
              "      (conv3): Conv2d(64, 256, kernel_size=(1, 1), stride=(1, 1), bias=False)\n",
              "      (bn3): BatchNorm2d(256, eps=1e-05, momentum=0.1, affine=True, track_running_stats=True)\n",
              "      (relu): ReLU(inplace=True)\n",
              "    )\n",
              "    (2): Bottleneck(\n",
              "      (conv1): Conv2d(256, 64, kernel_size=(1, 1), stride=(1, 1), bias=False)\n",
              "      (bn1): BatchNorm2d(64, eps=1e-05, momentum=0.1, affine=True, track_running_stats=True)\n",
              "      (conv2): Conv2d(64, 64, kernel_size=(3, 3), stride=(1, 1), padding=(1, 1), bias=False)\n",
              "      (bn2): BatchNorm2d(64, eps=1e-05, momentum=0.1, affine=True, track_running_stats=True)\n",
              "      (conv3): Conv2d(64, 256, kernel_size=(1, 1), stride=(1, 1), bias=False)\n",
              "      (bn3): BatchNorm2d(256, eps=1e-05, momentum=0.1, affine=True, track_running_stats=True)\n",
              "      (relu): ReLU(inplace=True)\n",
              "    )\n",
              "  )\n",
              "  (layer2): Sequential(\n",
              "    (0): Bottleneck(\n",
              "      (conv1): Conv2d(256, 128, kernel_size=(1, 1), stride=(1, 1), bias=False)\n",
              "      (bn1): BatchNorm2d(128, eps=1e-05, momentum=0.1, affine=True, track_running_stats=True)\n",
              "      (conv2): Conv2d(128, 128, kernel_size=(3, 3), stride=(2, 2), padding=(1, 1), bias=False)\n",
              "      (bn2): BatchNorm2d(128, eps=1e-05, momentum=0.1, affine=True, track_running_stats=True)\n",
              "      (conv3): Conv2d(128, 512, kernel_size=(1, 1), stride=(1, 1), bias=False)\n",
              "      (bn3): BatchNorm2d(512, eps=1e-05, momentum=0.1, affine=True, track_running_stats=True)\n",
              "      (relu): ReLU(inplace=True)\n",
              "      (downsample): Sequential(\n",
              "        (0): Conv2d(256, 512, kernel_size=(1, 1), stride=(2, 2), bias=False)\n",
              "        (1): BatchNorm2d(512, eps=1e-05, momentum=0.1, affine=True, track_running_stats=True)\n",
              "      )\n",
              "    )\n",
              "    (1): Bottleneck(\n",
              "      (conv1): Conv2d(512, 128, kernel_size=(1, 1), stride=(1, 1), bias=False)\n",
              "      (bn1): BatchNorm2d(128, eps=1e-05, momentum=0.1, affine=True, track_running_stats=True)\n",
              "      (conv2): Conv2d(128, 128, kernel_size=(3, 3), stride=(1, 1), padding=(1, 1), bias=False)\n",
              "      (bn2): BatchNorm2d(128, eps=1e-05, momentum=0.1, affine=True, track_running_stats=True)\n",
              "      (conv3): Conv2d(128, 512, kernel_size=(1, 1), stride=(1, 1), bias=False)\n",
              "      (bn3): BatchNorm2d(512, eps=1e-05, momentum=0.1, affine=True, track_running_stats=True)\n",
              "      (relu): ReLU(inplace=True)\n",
              "    )\n",
              "    (2): Bottleneck(\n",
              "      (conv1): Conv2d(512, 128, kernel_size=(1, 1), stride=(1, 1), bias=False)\n",
              "      (bn1): BatchNorm2d(128, eps=1e-05, momentum=0.1, affine=True, track_running_stats=True)\n",
              "      (conv2): Conv2d(128, 128, kernel_size=(3, 3), stride=(1, 1), padding=(1, 1), bias=False)\n",
              "      (bn2): BatchNorm2d(128, eps=1e-05, momentum=0.1, affine=True, track_running_stats=True)\n",
              "      (conv3): Conv2d(128, 512, kernel_size=(1, 1), stride=(1, 1), bias=False)\n",
              "      (bn3): BatchNorm2d(512, eps=1e-05, momentum=0.1, affine=True, track_running_stats=True)\n",
              "      (relu): ReLU(inplace=True)\n",
              "    )\n",
              "    (3): Bottleneck(\n",
              "      (conv1): Conv2d(512, 128, kernel_size=(1, 1), stride=(1, 1), bias=False)\n",
              "      (bn1): BatchNorm2d(128, eps=1e-05, momentum=0.1, affine=True, track_running_stats=True)\n",
              "      (conv2): Conv2d(128, 128, kernel_size=(3, 3), stride=(1, 1), padding=(1, 1), bias=False)\n",
              "      (bn2): BatchNorm2d(128, eps=1e-05, momentum=0.1, affine=True, track_running_stats=True)\n",
              "      (conv3): Conv2d(128, 512, kernel_size=(1, 1), stride=(1, 1), bias=False)\n",
              "      (bn3): BatchNorm2d(512, eps=1e-05, momentum=0.1, affine=True, track_running_stats=True)\n",
              "      (relu): ReLU(inplace=True)\n",
              "    )\n",
              "  )\n",
              "  (layer3): Sequential(\n",
              "    (0): Bottleneck(\n",
              "      (conv1): Conv2d(512, 256, kernel_size=(1, 1), stride=(1, 1), bias=False)\n",
              "      (bn1): BatchNorm2d(256, eps=1e-05, momentum=0.1, affine=True, track_running_stats=True)\n",
              "      (conv2): Conv2d(256, 256, kernel_size=(3, 3), stride=(2, 2), padding=(1, 1), bias=False)\n",
              "      (bn2): BatchNorm2d(256, eps=1e-05, momentum=0.1, affine=True, track_running_stats=True)\n",
              "      (conv3): Conv2d(256, 1024, kernel_size=(1, 1), stride=(1, 1), bias=False)\n",
              "      (bn3): BatchNorm2d(1024, eps=1e-05, momentum=0.1, affine=True, track_running_stats=True)\n",
              "      (relu): ReLU(inplace=True)\n",
              "      (downsample): Sequential(\n",
              "        (0): Conv2d(512, 1024, kernel_size=(1, 1), stride=(2, 2), bias=False)\n",
              "        (1): BatchNorm2d(1024, eps=1e-05, momentum=0.1, affine=True, track_running_stats=True)\n",
              "      )\n",
              "    )\n",
              "    (1): Bottleneck(\n",
              "      (conv1): Conv2d(1024, 256, kernel_size=(1, 1), stride=(1, 1), bias=False)\n",
              "      (bn1): BatchNorm2d(256, eps=1e-05, momentum=0.1, affine=True, track_running_stats=True)\n",
              "      (conv2): Conv2d(256, 256, kernel_size=(3, 3), stride=(1, 1), padding=(1, 1), bias=False)\n",
              "      (bn2): BatchNorm2d(256, eps=1e-05, momentum=0.1, affine=True, track_running_stats=True)\n",
              "      (conv3): Conv2d(256, 1024, kernel_size=(1, 1), stride=(1, 1), bias=False)\n",
              "      (bn3): BatchNorm2d(1024, eps=1e-05, momentum=0.1, affine=True, track_running_stats=True)\n",
              "      (relu): ReLU(inplace=True)\n",
              "    )\n",
              "    (2): Bottleneck(\n",
              "      (conv1): Conv2d(1024, 256, kernel_size=(1, 1), stride=(1, 1), bias=False)\n",
              "      (bn1): BatchNorm2d(256, eps=1e-05, momentum=0.1, affine=True, track_running_stats=True)\n",
              "      (conv2): Conv2d(256, 256, kernel_size=(3, 3), stride=(1, 1), padding=(1, 1), bias=False)\n",
              "      (bn2): BatchNorm2d(256, eps=1e-05, momentum=0.1, affine=True, track_running_stats=True)\n",
              "      (conv3): Conv2d(256, 1024, kernel_size=(1, 1), stride=(1, 1), bias=False)\n",
              "      (bn3): BatchNorm2d(1024, eps=1e-05, momentum=0.1, affine=True, track_running_stats=True)\n",
              "      (relu): ReLU(inplace=True)\n",
              "    )\n",
              "    (3): Bottleneck(\n",
              "      (conv1): Conv2d(1024, 256, kernel_size=(1, 1), stride=(1, 1), bias=False)\n",
              "      (bn1): BatchNorm2d(256, eps=1e-05, momentum=0.1, affine=True, track_running_stats=True)\n",
              "      (conv2): Conv2d(256, 256, kernel_size=(3, 3), stride=(1, 1), padding=(1, 1), bias=False)\n",
              "      (bn2): BatchNorm2d(256, eps=1e-05, momentum=0.1, affine=True, track_running_stats=True)\n",
              "      (conv3): Conv2d(256, 1024, kernel_size=(1, 1), stride=(1, 1), bias=False)\n",
              "      (bn3): BatchNorm2d(1024, eps=1e-05, momentum=0.1, affine=True, track_running_stats=True)\n",
              "      (relu): ReLU(inplace=True)\n",
              "    )\n",
              "    (4): Bottleneck(\n",
              "      (conv1): Conv2d(1024, 256, kernel_size=(1, 1), stride=(1, 1), bias=False)\n",
              "      (bn1): BatchNorm2d(256, eps=1e-05, momentum=0.1, affine=True, track_running_stats=True)\n",
              "      (conv2): Conv2d(256, 256, kernel_size=(3, 3), stride=(1, 1), padding=(1, 1), bias=False)\n",
              "      (bn2): BatchNorm2d(256, eps=1e-05, momentum=0.1, affine=True, track_running_stats=True)\n",
              "      (conv3): Conv2d(256, 1024, kernel_size=(1, 1), stride=(1, 1), bias=False)\n",
              "      (bn3): BatchNorm2d(1024, eps=1e-05, momentum=0.1, affine=True, track_running_stats=True)\n",
              "      (relu): ReLU(inplace=True)\n",
              "    )\n",
              "    (5): Bottleneck(\n",
              "      (conv1): Conv2d(1024, 256, kernel_size=(1, 1), stride=(1, 1), bias=False)\n",
              "      (bn1): BatchNorm2d(256, eps=1e-05, momentum=0.1, affine=True, track_running_stats=True)\n",
              "      (conv2): Conv2d(256, 256, kernel_size=(3, 3), stride=(1, 1), padding=(1, 1), bias=False)\n",
              "      (bn2): BatchNorm2d(256, eps=1e-05, momentum=0.1, affine=True, track_running_stats=True)\n",
              "      (conv3): Conv2d(256, 1024, kernel_size=(1, 1), stride=(1, 1), bias=False)\n",
              "      (bn3): BatchNorm2d(1024, eps=1e-05, momentum=0.1, affine=True, track_running_stats=True)\n",
              "      (relu): ReLU(inplace=True)\n",
              "    )\n",
              "    (6): Bottleneck(\n",
              "      (conv1): Conv2d(1024, 256, kernel_size=(1, 1), stride=(1, 1), bias=False)\n",
              "      (bn1): BatchNorm2d(256, eps=1e-05, momentum=0.1, affine=True, track_running_stats=True)\n",
              "      (conv2): Conv2d(256, 256, kernel_size=(3, 3), stride=(1, 1), padding=(1, 1), bias=False)\n",
              "      (bn2): BatchNorm2d(256, eps=1e-05, momentum=0.1, affine=True, track_running_stats=True)\n",
              "      (conv3): Conv2d(256, 1024, kernel_size=(1, 1), stride=(1, 1), bias=False)\n",
              "      (bn3): BatchNorm2d(1024, eps=1e-05, momentum=0.1, affine=True, track_running_stats=True)\n",
              "      (relu): ReLU(inplace=True)\n",
              "    )\n",
              "    (7): Bottleneck(\n",
              "      (conv1): Conv2d(1024, 256, kernel_size=(1, 1), stride=(1, 1), bias=False)\n",
              "      (bn1): BatchNorm2d(256, eps=1e-05, momentum=0.1, affine=True, track_running_stats=True)\n",
              "      (conv2): Conv2d(256, 256, kernel_size=(3, 3), stride=(1, 1), padding=(1, 1), bias=False)\n",
              "      (bn2): BatchNorm2d(256, eps=1e-05, momentum=0.1, affine=True, track_running_stats=True)\n",
              "      (conv3): Conv2d(256, 1024, kernel_size=(1, 1), stride=(1, 1), bias=False)\n",
              "      (bn3): BatchNorm2d(1024, eps=1e-05, momentum=0.1, affine=True, track_running_stats=True)\n",
              "      (relu): ReLU(inplace=True)\n",
              "    )\n",
              "    (8): Bottleneck(\n",
              "      (conv1): Conv2d(1024, 256, kernel_size=(1, 1), stride=(1, 1), bias=False)\n",
              "      (bn1): BatchNorm2d(256, eps=1e-05, momentum=0.1, affine=True, track_running_stats=True)\n",
              "      (conv2): Conv2d(256, 256, kernel_size=(3, 3), stride=(1, 1), padding=(1, 1), bias=False)\n",
              "      (bn2): BatchNorm2d(256, eps=1e-05, momentum=0.1, affine=True, track_running_stats=True)\n",
              "      (conv3): Conv2d(256, 1024, kernel_size=(1, 1), stride=(1, 1), bias=False)\n",
              "      (bn3): BatchNorm2d(1024, eps=1e-05, momentum=0.1, affine=True, track_running_stats=True)\n",
              "      (relu): ReLU(inplace=True)\n",
              "    )\n",
              "    (9): Bottleneck(\n",
              "      (conv1): Conv2d(1024, 256, kernel_size=(1, 1), stride=(1, 1), bias=False)\n",
              "      (bn1): BatchNorm2d(256, eps=1e-05, momentum=0.1, affine=True, track_running_stats=True)\n",
              "      (conv2): Conv2d(256, 256, kernel_size=(3, 3), stride=(1, 1), padding=(1, 1), bias=False)\n",
              "      (bn2): BatchNorm2d(256, eps=1e-05, momentum=0.1, affine=True, track_running_stats=True)\n",
              "      (conv3): Conv2d(256, 1024, kernel_size=(1, 1), stride=(1, 1), bias=False)\n",
              "      (bn3): BatchNorm2d(1024, eps=1e-05, momentum=0.1, affine=True, track_running_stats=True)\n",
              "      (relu): ReLU(inplace=True)\n",
              "    )\n",
              "    (10): Bottleneck(\n",
              "      (conv1): Conv2d(1024, 256, kernel_size=(1, 1), stride=(1, 1), bias=False)\n",
              "      (bn1): BatchNorm2d(256, eps=1e-05, momentum=0.1, affine=True, track_running_stats=True)\n",
              "      (conv2): Conv2d(256, 256, kernel_size=(3, 3), stride=(1, 1), padding=(1, 1), bias=False)\n",
              "      (bn2): BatchNorm2d(256, eps=1e-05, momentum=0.1, affine=True, track_running_stats=True)\n",
              "      (conv3): Conv2d(256, 1024, kernel_size=(1, 1), stride=(1, 1), bias=False)\n",
              "      (bn3): BatchNorm2d(1024, eps=1e-05, momentum=0.1, affine=True, track_running_stats=True)\n",
              "      (relu): ReLU(inplace=True)\n",
              "    )\n",
              "    (11): Bottleneck(\n",
              "      (conv1): Conv2d(1024, 256, kernel_size=(1, 1), stride=(1, 1), bias=False)\n",
              "      (bn1): BatchNorm2d(256, eps=1e-05, momentum=0.1, affine=True, track_running_stats=True)\n",
              "      (conv2): Conv2d(256, 256, kernel_size=(3, 3), stride=(1, 1), padding=(1, 1), bias=False)\n",
              "      (bn2): BatchNorm2d(256, eps=1e-05, momentum=0.1, affine=True, track_running_stats=True)\n",
              "      (conv3): Conv2d(256, 1024, kernel_size=(1, 1), stride=(1, 1), bias=False)\n",
              "      (bn3): BatchNorm2d(1024, eps=1e-05, momentum=0.1, affine=True, track_running_stats=True)\n",
              "      (relu): ReLU(inplace=True)\n",
              "    )\n",
              "    (12): Bottleneck(\n",
              "      (conv1): Conv2d(1024, 256, kernel_size=(1, 1), stride=(1, 1), bias=False)\n",
              "      (bn1): BatchNorm2d(256, eps=1e-05, momentum=0.1, affine=True, track_running_stats=True)\n",
              "      (conv2): Conv2d(256, 256, kernel_size=(3, 3), stride=(1, 1), padding=(1, 1), bias=False)\n",
              "      (bn2): BatchNorm2d(256, eps=1e-05, momentum=0.1, affine=True, track_running_stats=True)\n",
              "      (conv3): Conv2d(256, 1024, kernel_size=(1, 1), stride=(1, 1), bias=False)\n",
              "      (bn3): BatchNorm2d(1024, eps=1e-05, momentum=0.1, affine=True, track_running_stats=True)\n",
              "      (relu): ReLU(inplace=True)\n",
              "    )\n",
              "    (13): Bottleneck(\n",
              "      (conv1): Conv2d(1024, 256, kernel_size=(1, 1), stride=(1, 1), bias=False)\n",
              "      (bn1): BatchNorm2d(256, eps=1e-05, momentum=0.1, affine=True, track_running_stats=True)\n",
              "      (conv2): Conv2d(256, 256, kernel_size=(3, 3), stride=(1, 1), padding=(1, 1), bias=False)\n",
              "      (bn2): BatchNorm2d(256, eps=1e-05, momentum=0.1, affine=True, track_running_stats=True)\n",
              "      (conv3): Conv2d(256, 1024, kernel_size=(1, 1), stride=(1, 1), bias=False)\n",
              "      (bn3): BatchNorm2d(1024, eps=1e-05, momentum=0.1, affine=True, track_running_stats=True)\n",
              "      (relu): ReLU(inplace=True)\n",
              "    )\n",
              "    (14): Bottleneck(\n",
              "      (conv1): Conv2d(1024, 256, kernel_size=(1, 1), stride=(1, 1), bias=False)\n",
              "      (bn1): BatchNorm2d(256, eps=1e-05, momentum=0.1, affine=True, track_running_stats=True)\n",
              "      (conv2): Conv2d(256, 256, kernel_size=(3, 3), stride=(1, 1), padding=(1, 1), bias=False)\n",
              "      (bn2): BatchNorm2d(256, eps=1e-05, momentum=0.1, affine=True, track_running_stats=True)\n",
              "      (conv3): Conv2d(256, 1024, kernel_size=(1, 1), stride=(1, 1), bias=False)\n",
              "      (bn3): BatchNorm2d(1024, eps=1e-05, momentum=0.1, affine=True, track_running_stats=True)\n",
              "      (relu): ReLU(inplace=True)\n",
              "    )\n",
              "    (15): Bottleneck(\n",
              "      (conv1): Conv2d(1024, 256, kernel_size=(1, 1), stride=(1, 1), bias=False)\n",
              "      (bn1): BatchNorm2d(256, eps=1e-05, momentum=0.1, affine=True, track_running_stats=True)\n",
              "      (conv2): Conv2d(256, 256, kernel_size=(3, 3), stride=(1, 1), padding=(1, 1), bias=False)\n",
              "      (bn2): BatchNorm2d(256, eps=1e-05, momentum=0.1, affine=True, track_running_stats=True)\n",
              "      (conv3): Conv2d(256, 1024, kernel_size=(1, 1), stride=(1, 1), bias=False)\n",
              "      (bn3): BatchNorm2d(1024, eps=1e-05, momentum=0.1, affine=True, track_running_stats=True)\n",
              "      (relu): ReLU(inplace=True)\n",
              "    )\n",
              "    (16): Bottleneck(\n",
              "      (conv1): Conv2d(1024, 256, kernel_size=(1, 1), stride=(1, 1), bias=False)\n",
              "      (bn1): BatchNorm2d(256, eps=1e-05, momentum=0.1, affine=True, track_running_stats=True)\n",
              "      (conv2): Conv2d(256, 256, kernel_size=(3, 3), stride=(1, 1), padding=(1, 1), bias=False)\n",
              "      (bn2): BatchNorm2d(256, eps=1e-05, momentum=0.1, affine=True, track_running_stats=True)\n",
              "      (conv3): Conv2d(256, 1024, kernel_size=(1, 1), stride=(1, 1), bias=False)\n",
              "      (bn3): BatchNorm2d(1024, eps=1e-05, momentum=0.1, affine=True, track_running_stats=True)\n",
              "      (relu): ReLU(inplace=True)\n",
              "    )\n",
              "    (17): Bottleneck(\n",
              "      (conv1): Conv2d(1024, 256, kernel_size=(1, 1), stride=(1, 1), bias=False)\n",
              "      (bn1): BatchNorm2d(256, eps=1e-05, momentum=0.1, affine=True, track_running_stats=True)\n",
              "      (conv2): Conv2d(256, 256, kernel_size=(3, 3), stride=(1, 1), padding=(1, 1), bias=False)\n",
              "      (bn2): BatchNorm2d(256, eps=1e-05, momentum=0.1, affine=True, track_running_stats=True)\n",
              "      (conv3): Conv2d(256, 1024, kernel_size=(1, 1), stride=(1, 1), bias=False)\n",
              "      (bn3): BatchNorm2d(1024, eps=1e-05, momentum=0.1, affine=True, track_running_stats=True)\n",
              "      (relu): ReLU(inplace=True)\n",
              "    )\n",
              "    (18): Bottleneck(\n",
              "      (conv1): Conv2d(1024, 256, kernel_size=(1, 1), stride=(1, 1), bias=False)\n",
              "      (bn1): BatchNorm2d(256, eps=1e-05, momentum=0.1, affine=True, track_running_stats=True)\n",
              "      (conv2): Conv2d(256, 256, kernel_size=(3, 3), stride=(1, 1), padding=(1, 1), bias=False)\n",
              "      (bn2): BatchNorm2d(256, eps=1e-05, momentum=0.1, affine=True, track_running_stats=True)\n",
              "      (conv3): Conv2d(256, 1024, kernel_size=(1, 1), stride=(1, 1), bias=False)\n",
              "      (bn3): BatchNorm2d(1024, eps=1e-05, momentum=0.1, affine=True, track_running_stats=True)\n",
              "      (relu): ReLU(inplace=True)\n",
              "    )\n",
              "    (19): Bottleneck(\n",
              "      (conv1): Conv2d(1024, 256, kernel_size=(1, 1), stride=(1, 1), bias=False)\n",
              "      (bn1): BatchNorm2d(256, eps=1e-05, momentum=0.1, affine=True, track_running_stats=True)\n",
              "      (conv2): Conv2d(256, 256, kernel_size=(3, 3), stride=(1, 1), padding=(1, 1), bias=False)\n",
              "      (bn2): BatchNorm2d(256, eps=1e-05, momentum=0.1, affine=True, track_running_stats=True)\n",
              "      (conv3): Conv2d(256, 1024, kernel_size=(1, 1), stride=(1, 1), bias=False)\n",
              "      (bn3): BatchNorm2d(1024, eps=1e-05, momentum=0.1, affine=True, track_running_stats=True)\n",
              "      (relu): ReLU(inplace=True)\n",
              "    )\n",
              "    (20): Bottleneck(\n",
              "      (conv1): Conv2d(1024, 256, kernel_size=(1, 1), stride=(1, 1), bias=False)\n",
              "      (bn1): BatchNorm2d(256, eps=1e-05, momentum=0.1, affine=True, track_running_stats=True)\n",
              "      (conv2): Conv2d(256, 256, kernel_size=(3, 3), stride=(1, 1), padding=(1, 1), bias=False)\n",
              "      (bn2): BatchNorm2d(256, eps=1e-05, momentum=0.1, affine=True, track_running_stats=True)\n",
              "      (conv3): Conv2d(256, 1024, kernel_size=(1, 1), stride=(1, 1), bias=False)\n",
              "      (bn3): BatchNorm2d(1024, eps=1e-05, momentum=0.1, affine=True, track_running_stats=True)\n",
              "      (relu): ReLU(inplace=True)\n",
              "    )\n",
              "    (21): Bottleneck(\n",
              "      (conv1): Conv2d(1024, 256, kernel_size=(1, 1), stride=(1, 1), bias=False)\n",
              "      (bn1): BatchNorm2d(256, eps=1e-05, momentum=0.1, affine=True, track_running_stats=True)\n",
              "      (conv2): Conv2d(256, 256, kernel_size=(3, 3), stride=(1, 1), padding=(1, 1), bias=False)\n",
              "      (bn2): BatchNorm2d(256, eps=1e-05, momentum=0.1, affine=True, track_running_stats=True)\n",
              "      (conv3): Conv2d(256, 1024, kernel_size=(1, 1), stride=(1, 1), bias=False)\n",
              "      (bn3): BatchNorm2d(1024, eps=1e-05, momentum=0.1, affine=True, track_running_stats=True)\n",
              "      (relu): ReLU(inplace=True)\n",
              "    )\n",
              "    (22): Bottleneck(\n",
              "      (conv1): Conv2d(1024, 256, kernel_size=(1, 1), stride=(1, 1), bias=False)\n",
              "      (bn1): BatchNorm2d(256, eps=1e-05, momentum=0.1, affine=True, track_running_stats=True)\n",
              "      (conv2): Conv2d(256, 256, kernel_size=(3, 3), stride=(1, 1), padding=(1, 1), bias=False)\n",
              "      (bn2): BatchNorm2d(256, eps=1e-05, momentum=0.1, affine=True, track_running_stats=True)\n",
              "      (conv3): Conv2d(256, 1024, kernel_size=(1, 1), stride=(1, 1), bias=False)\n",
              "      (bn3): BatchNorm2d(1024, eps=1e-05, momentum=0.1, affine=True, track_running_stats=True)\n",
              "      (relu): ReLU(inplace=True)\n",
              "    )\n",
              "  )\n",
              "  (layer4): Sequential(\n",
              "    (0): Bottleneck(\n",
              "      (conv1): Conv2d(1024, 512, kernel_size=(1, 1), stride=(1, 1), bias=False)\n",
              "      (bn1): BatchNorm2d(512, eps=1e-05, momentum=0.1, affine=True, track_running_stats=True)\n",
              "      (conv2): Conv2d(512, 512, kernel_size=(3, 3), stride=(2, 2), padding=(1, 1), bias=False)\n",
              "      (bn2): BatchNorm2d(512, eps=1e-05, momentum=0.1, affine=True, track_running_stats=True)\n",
              "      (conv3): Conv2d(512, 2048, kernel_size=(1, 1), stride=(1, 1), bias=False)\n",
              "      (bn3): BatchNorm2d(2048, eps=1e-05, momentum=0.1, affine=True, track_running_stats=True)\n",
              "      (relu): ReLU(inplace=True)\n",
              "      (downsample): Sequential(\n",
              "        (0): Conv2d(1024, 2048, kernel_size=(1, 1), stride=(2, 2), bias=False)\n",
              "        (1): BatchNorm2d(2048, eps=1e-05, momentum=0.1, affine=True, track_running_stats=True)\n",
              "      )\n",
              "    )\n",
              "    (1): Bottleneck(\n",
              "      (conv1): Conv2d(2048, 512, kernel_size=(1, 1), stride=(1, 1), bias=False)\n",
              "      (bn1): BatchNorm2d(512, eps=1e-05, momentum=0.1, affine=True, track_running_stats=True)\n",
              "      (conv2): Conv2d(512, 512, kernel_size=(3, 3), stride=(1, 1), padding=(1, 1), bias=False)\n",
              "      (bn2): BatchNorm2d(512, eps=1e-05, momentum=0.1, affine=True, track_running_stats=True)\n",
              "      (conv3): Conv2d(512, 2048, kernel_size=(1, 1), stride=(1, 1), bias=False)\n",
              "      (bn3): BatchNorm2d(2048, eps=1e-05, momentum=0.1, affine=True, track_running_stats=True)\n",
              "      (relu): ReLU(inplace=True)\n",
              "    )\n",
              "    (2): Bottleneck(\n",
              "      (conv1): Conv2d(2048, 512, kernel_size=(1, 1), stride=(1, 1), bias=False)\n",
              "      (bn1): BatchNorm2d(512, eps=1e-05, momentum=0.1, affine=True, track_running_stats=True)\n",
              "      (conv2): Conv2d(512, 512, kernel_size=(3, 3), stride=(1, 1), padding=(1, 1), bias=False)\n",
              "      (bn2): BatchNorm2d(512, eps=1e-05, momentum=0.1, affine=True, track_running_stats=True)\n",
              "      (conv3): Conv2d(512, 2048, kernel_size=(1, 1), stride=(1, 1), bias=False)\n",
              "      (bn3): BatchNorm2d(2048, eps=1e-05, momentum=0.1, affine=True, track_running_stats=True)\n",
              "      (relu): ReLU(inplace=True)\n",
              "    )\n",
              "  )\n",
              "  (avgpool): AdaptiveAvgPool2d(output_size=(1, 1))\n",
              "  (fc): Linear(in_features=2048, out_features=1000, bias=True)\n",
              ")"
            ]
          },
          "metadata": {
            "tags": []
          },
          "execution_count": 5
        }
      ]
    },
    {
      "cell_type": "markdown",
      "metadata": {
        "id": "tNOYBuR9JkT2"
      },
      "source": [
        "Define preprocess,transformd to convert image to tensors"
      ]
    },
    {
      "cell_type": "code",
      "metadata": {
        "id": "bYSWnTTa3U4M"
      },
      "source": [
        "preprocess = transforms.Compose([\n",
        "     transforms.Resize(256),\n",
        "     transforms.CenterCrop(224),\n",
        "     transforms.ToTensor(),\n",
        "     transforms.Normalize(\n",
        "         mean = [0.485,0.456,0.406],\n",
        "         std = [0.229,0.224,0.225]\n",
        "     )\n",
        "  ])"
      ],
      "execution_count": 6,
      "outputs": []
    },
    {
      "cell_type": "code",
      "metadata": {
        "colab": {
          "base_uri": "https://localhost:8080/",
          "height": 304
        },
        "id": "1aHgwEiI6UTo",
        "outputId": "628a5dc6-27bb-44be-c282-66c65fee2873"
      },
      "source": [
        "from PIL import Image\n",
        "img = Image.open('/content/drive/MyDrive/DataSets/dog.4.jpg')\n",
        "img"
      ],
      "execution_count": 7,
      "outputs": [
        {
          "output_type": "execute_result",
          "data": {
            "image/png": "[encoded data removed]",
            "text/plain": [
              "<PIL.JpegImagePlugin.JpegImageFile image mode=RGB size=300x287 at 0x7FDA15EFAD50>"
            ]
          },
          "metadata": {
            "tags": []
          },
          "execution_count": 7
        }
      ]
    },
    {
      "cell_type": "markdown",
      "metadata": {
        "id": "eHxO4L3kJ1OO"
      },
      "source": [
        "Lets Preprocess input image"
      ]
    },
    {
      "cell_type": "code",
      "metadata": {
        "colab": {
          "base_uri": "https://localhost:8080/"
        },
        "id": "f90TE-5v8eHt",
        "outputId": "85216bf1-f230-4331-ad46-a53f7179ee79"
      },
      "source": [
        "img_t = preprocess(img)\n",
        "img_t"
      ],
      "execution_count": 8,
      "outputs": [
        {
          "output_type": "execute_result",
          "data": {
            "text/plain": [
              "tensor([[[ 1.8037,  1.8037,  1.8037,  ..., -1.2959, -1.2274, -1.1932],\n",
              "         [ 1.8722,  1.8722,  1.8722,  ..., -1.3302, -1.3473, -1.2959],\n",
              "         [ 1.8550,  1.8550,  1.8550,  ..., -1.2959, -1.3815, -1.3644],\n",
              "         ...,\n",
              "         [-1.9980, -1.9467, -1.9295,  ..., -0.4739, -0.6281, -0.7993],\n",
              "         [-2.0152, -1.9638, -1.9467,  ..., -0.3198, -0.5253, -0.6965],\n",
              "         [-2.0323, -1.9809, -1.9638,  ..., -0.2171, -0.4226, -0.6109]],\n",
              "\n",
              "        [[ 1.8508,  1.8508,  1.8508,  ..., -1.7556, -1.7206, -1.6856],\n",
              "         [ 1.9734,  1.9734,  1.9734,  ..., -1.7556, -1.8081, -1.7731],\n",
              "         [ 1.9909,  1.9909,  1.9909,  ..., -1.7206, -1.8081, -1.8081],\n",
              "         ...,\n",
              "         [-1.8431, -1.7906, -1.7731,  ..., -0.7052, -0.8102, -0.9328],\n",
              "         [-1.8606, -1.8081, -1.7906,  ..., -0.5476, -0.7227, -0.8627],\n",
              "         [-1.8782, -1.8256, -1.8081,  ..., -0.4426, -0.6176, -0.7577]],\n",
              "\n",
              "        [[ 1.7337,  1.7337,  1.7337,  ..., -1.4733, -1.4907, -1.4907],\n",
              "         [ 1.8208,  1.8208,  1.8208,  ..., -1.5081, -1.5604, -1.5779],\n",
              "         [ 1.8383,  1.8383,  1.8383,  ..., -1.4559, -1.5953, -1.6127],\n",
              "         ...,\n",
              "         [-1.5953, -1.5430, -1.5256,  ..., -0.8458, -0.9156, -1.0201],\n",
              "         [-1.6127, -1.5604, -1.5430,  ..., -0.7238, -0.8633, -0.9330],\n",
              "         [-1.6302, -1.5779, -1.5604,  ..., -0.6367, -0.7936, -0.8633]]])"
            ]
          },
          "metadata": {
            "tags": []
          },
          "execution_count": 8
        }
      ]
    },
    {
      "cell_type": "code",
      "metadata": {
        "id": "Nj7NFcRV8_Lh"
      },
      "source": [
        "batch_t = torch.unsqueeze(img_t, 0)"
      ],
      "execution_count": 9,
      "outputs": []
    },
    {
      "cell_type": "code",
      "metadata": {
        "colab": {
          "base_uri": "https://localhost:8080/"
        },
        "id": "Dz_iJ24F9GdI",
        "outputId": "d6839432-a6ad-43bb-ff3f-585e13cf2da8"
      },
      "source": [
        "batch_t"
      ],
      "execution_count": 10,
      "outputs": [
        {
          "output_type": "execute_result",
          "data": {
            "text/plain": [
              "tensor([[[[ 1.8037,  1.8037,  1.8037,  ..., -1.2959, -1.2274, -1.1932],\n",
              "          [ 1.8722,  1.8722,  1.8722,  ..., -1.3302, -1.3473, -1.2959],\n",
              "          [ 1.8550,  1.8550,  1.8550,  ..., -1.2959, -1.3815, -1.3644],\n",
              "          ...,\n",
              "          [-1.9980, -1.9467, -1.9295,  ..., -0.4739, -0.6281, -0.7993],\n",
              "          [-2.0152, -1.9638, -1.9467,  ..., -0.3198, -0.5253, -0.6965],\n",
              "          [-2.0323, -1.9809, -1.9638,  ..., -0.2171, -0.4226, -0.6109]],\n",
              "\n",
              "         [[ 1.8508,  1.8508,  1.8508,  ..., -1.7556, -1.7206, -1.6856],\n",
              "          [ 1.9734,  1.9734,  1.9734,  ..., -1.7556, -1.8081, -1.7731],\n",
              "          [ 1.9909,  1.9909,  1.9909,  ..., -1.7206, -1.8081, -1.8081],\n",
              "          ...,\n",
              "          [-1.8431, -1.7906, -1.7731,  ..., -0.7052, -0.8102, -0.9328],\n",
              "          [-1.8606, -1.8081, -1.7906,  ..., -0.5476, -0.7227, -0.8627],\n",
              "          [-1.8782, -1.8256, -1.8081,  ..., -0.4426, -0.6176, -0.7577]],\n",
              "\n",
              "         [[ 1.7337,  1.7337,  1.7337,  ..., -1.4733, -1.4907, -1.4907],\n",
              "          [ 1.8208,  1.8208,  1.8208,  ..., -1.5081, -1.5604, -1.5779],\n",
              "          [ 1.8383,  1.8383,  1.8383,  ..., -1.4559, -1.5953, -1.6127],\n",
              "          ...,\n",
              "          [-1.5953, -1.5430, -1.5256,  ..., -0.8458, -0.9156, -1.0201],\n",
              "          [-1.6127, -1.5604, -1.5430,  ..., -0.7238, -0.8633, -0.9330],\n",
              "          [-1.6302, -1.5779, -1.5604,  ..., -0.6367, -0.7936, -0.8633]]]])"
            ]
          },
          "metadata": {
            "tags": []
          },
          "execution_count": 10
        }
      ]
    },
    {
      "cell_type": "markdown",
      "metadata": {
        "id": "Mb5iL07NJ7y9"
      },
      "source": [
        "Activate ResNet before Prediction"
      ]
    },
    {
      "cell_type": "code",
      "metadata": {
        "colab": {
          "base_uri": "https://localhost:8080/"
        },
        "id": "JEhZcgyW9YSz",
        "outputId": "f725e56d-5ee3-46e1-8815-1cff25052ad2"
      },
      "source": [
        "resnet.eval()"
      ],
      "execution_count": 11,
      "outputs": [
        {
          "output_type": "execute_result",
          "data": {
            "text/plain": [
              "ResNet(\n",
              "  (conv1): Conv2d(3, 64, kernel_size=(7, 7), stride=(2, 2), padding=(3, 3), bias=False)\n",
              "  (bn1): BatchNorm2d(64, eps=1e-05, momentum=0.1, affine=True, track_running_stats=True)\n",
              "  (relu): ReLU(inplace=True)\n",
              "  (maxpool): MaxPool2d(kernel_size=3, stride=2, padding=1, dilation=1, ceil_mode=False)\n",
              "  (layer1): Sequential(\n",
              "    (0): Bottleneck(\n",
              "      (conv1): Conv2d(64, 64, kernel_size=(1, 1), stride=(1, 1), bias=False)\n",
              "      (bn1): BatchNorm2d(64, eps=1e-05, momentum=0.1, affine=True, track_running_stats=True)\n",
              "      (conv2): Conv2d(64, 64, kernel_size=(3, 3), stride=(1, 1), padding=(1, 1), bias=False)\n",
              "      (bn2): BatchNorm2d(64, eps=1e-05, momentum=0.1, affine=True, track_running_stats=True)\n",
              "      (conv3): Conv2d(64, 256, kernel_size=(1, 1), stride=(1, 1), bias=False)\n",
              "      (bn3): BatchNorm2d(256, eps=1e-05, momentum=0.1, affine=True, track_running_stats=True)\n",
              "      (relu): ReLU(inplace=True)\n",
              "      (downsample): Sequential(\n",
              "        (0): Conv2d(64, 256, kernel_size=(1, 1), stride=(1, 1), bias=False)\n",
              "        (1): BatchNorm2d(256, eps=1e-05, momentum=0.1, affine=True, track_running_stats=True)\n",
              "      )\n",
              "    )\n",
              "    (1): Bottleneck(\n",
              "      (conv1): Conv2d(256, 64, kernel_size=(1, 1), stride=(1, 1), bias=False)\n",
              "      (bn1): BatchNorm2d(64, eps=1e-05, momentum=0.1, affine=True, track_running_stats=True)\n",
              "      (conv2): Conv2d(64, 64, kernel_size=(3, 3), stride=(1, 1), padding=(1, 1), bias=False)\n",
              "      (bn2): BatchNorm2d(64, eps=1e-05, momentum=0.1, affine=True, track_running_stats=True)\n",
              "      (conv3): Conv2d(64, 256, kernel_size=(1, 1), stride=(1, 1), bias=False)\n",
              "      (bn3): BatchNorm2d(256, eps=1e-05, momentum=0.1, affine=True, track_running_stats=True)\n",
              "      (relu): ReLU(inplace=True)\n",
              "    )\n",
              "    (2): Bottleneck(\n",
              "      (conv1): Conv2d(256, 64, kernel_size=(1, 1), stride=(1, 1), bias=False)\n",
              "      (bn1): BatchNorm2d(64, eps=1e-05, momentum=0.1, affine=True, track_running_stats=True)\n",
              "      (conv2): Conv2d(64, 64, kernel_size=(3, 3), stride=(1, 1), padding=(1, 1), bias=False)\n",
              "      (bn2): BatchNorm2d(64, eps=1e-05, momentum=0.1, affine=True, track_running_stats=True)\n",
              "      (conv3): Conv2d(64, 256, kernel_size=(1, 1), stride=(1, 1), bias=False)\n",
              "      (bn3): BatchNorm2d(256, eps=1e-05, momentum=0.1, affine=True, track_running_stats=True)\n",
              "      (relu): ReLU(inplace=True)\n",
              "    )\n",
              "  )\n",
              "  (layer2): Sequential(\n",
              "    (0): Bottleneck(\n",
              "      (conv1): Conv2d(256, 128, kernel_size=(1, 1), stride=(1, 1), bias=False)\n",
              "      (bn1): BatchNorm2d(128, eps=1e-05, momentum=0.1, affine=True, track_running_stats=True)\n",
              "      (conv2): Conv2d(128, 128, kernel_size=(3, 3), stride=(2, 2), padding=(1, 1), bias=False)\n",
              "      (bn2): BatchNorm2d(128, eps=1e-05, momentum=0.1, affine=True, track_running_stats=True)\n",
              "      (conv3): Conv2d(128, 512, kernel_size=(1, 1), stride=(1, 1), bias=False)\n",
              "      (bn3): BatchNorm2d(512, eps=1e-05, momentum=0.1, affine=True, track_running_stats=True)\n",
              "      (relu): ReLU(inplace=True)\n",
              "      (downsample): Sequential(\n",
              "        (0): Conv2d(256, 512, kernel_size=(1, 1), stride=(2, 2), bias=False)\n",
              "        (1): BatchNorm2d(512, eps=1e-05, momentum=0.1, affine=True, track_running_stats=True)\n",
              "      )\n",
              "    )\n",
              "    (1): Bottleneck(\n",
              "      (conv1): Conv2d(512, 128, kernel_size=(1, 1), stride=(1, 1), bias=False)\n",
              "      (bn1): BatchNorm2d(128, eps=1e-05, momentum=0.1, affine=True, track_running_stats=True)\n",
              "      (conv2): Conv2d(128, 128, kernel_size=(3, 3), stride=(1, 1), padding=(1, 1), bias=False)\n",
              "      (bn2): BatchNorm2d(128, eps=1e-05, momentum=0.1, affine=True, track_running_stats=True)\n",
              "      (conv3): Conv2d(128, 512, kernel_size=(1, 1), stride=(1, 1), bias=False)\n",
              "      (bn3): BatchNorm2d(512, eps=1e-05, momentum=0.1, affine=True, track_running_stats=True)\n",
              "      (relu): ReLU(inplace=True)\n",
              "    )\n",
              "    (2): Bottleneck(\n",
              "      (conv1): Conv2d(512, 128, kernel_size=(1, 1), stride=(1, 1), bias=False)\n",
              "      (bn1): BatchNorm2d(128, eps=1e-05, momentum=0.1, affine=True, track_running_stats=True)\n",
              "      (conv2): Conv2d(128, 128, kernel_size=(3, 3), stride=(1, 1), padding=(1, 1), bias=False)\n",
              "      (bn2): BatchNorm2d(128, eps=1e-05, momentum=0.1, affine=True, track_running_stats=True)\n",
              "      (conv3): Conv2d(128, 512, kernel_size=(1, 1), stride=(1, 1), bias=False)\n",
              "      (bn3): BatchNorm2d(512, eps=1e-05, momentum=0.1, affine=True, track_running_stats=True)\n",
              "      (relu): ReLU(inplace=True)\n",
              "    )\n",
              "    (3): Bottleneck(\n",
              "      (conv1): Conv2d(512, 128, kernel_size=(1, 1), stride=(1, 1), bias=False)\n",
              "      (bn1): BatchNorm2d(128, eps=1e-05, momentum=0.1, affine=True, track_running_stats=True)\n",
              "      (conv2): Conv2d(128, 128, kernel_size=(3, 3), stride=(1, 1), padding=(1, 1), bias=False)\n",
              "      (bn2): BatchNorm2d(128, eps=1e-05, momentum=0.1, affine=True, track_running_stats=True)\n",
              "      (conv3): Conv2d(128, 512, kernel_size=(1, 1), stride=(1, 1), bias=False)\n",
              "      (bn3): BatchNorm2d(512, eps=1e-05, momentum=0.1, affine=True, track_running_stats=True)\n",
              "      (relu): ReLU(inplace=True)\n",
              "    )\n",
              "  )\n",
              "  (layer3): Sequential(\n",
              "    (0): Bottleneck(\n",
              "      (conv1): Conv2d(512, 256, kernel_size=(1, 1), stride=(1, 1), bias=False)\n",
              "      (bn1): BatchNorm2d(256, eps=1e-05, momentum=0.1, affine=True, track_running_stats=True)\n",
              "      (conv2): Conv2d(256, 256, kernel_size=(3, 3), stride=(2, 2), padding=(1, 1), bias=False)\n",
              "      (bn2): BatchNorm2d(256, eps=1e-05, momentum=0.1, affine=True, track_running_stats=True)\n",
              "      (conv3): Conv2d(256, 1024, kernel_size=(1, 1), stride=(1, 1), bias=False)\n",
              "      (bn3): BatchNorm2d(1024, eps=1e-05, momentum=0.1, affine=True, track_running_stats=True)\n",
              "      (relu): ReLU(inplace=True)\n",
              "      (downsample): Sequential(\n",
              "        (0): Conv2d(512, 1024, kernel_size=(1, 1), stride=(2, 2), bias=False)\n",
              "        (1): BatchNorm2d(1024, eps=1e-05, momentum=0.1, affine=True, track_running_stats=True)\n",
              "      )\n",
              "    )\n",
              "    (1): Bottleneck(\n",
              "      (conv1): Conv2d(1024, 256, kernel_size=(1, 1), stride=(1, 1), bias=False)\n",
              "      (bn1): BatchNorm2d(256, eps=1e-05, momentum=0.1, affine=True, track_running_stats=True)\n",
              "      (conv2): Conv2d(256, 256, kernel_size=(3, 3), stride=(1, 1), padding=(1, 1), bias=False)\n",
              "      (bn2): BatchNorm2d(256, eps=1e-05, momentum=0.1, affine=True, track_running_stats=True)\n",
              "      (conv3): Conv2d(256, 1024, kernel_size=(1, 1), stride=(1, 1), bias=False)\n",
              "      (bn3): BatchNorm2d(1024, eps=1e-05, momentum=0.1, affine=True, track_running_stats=True)\n",
              "      (relu): ReLU(inplace=True)\n",
              "    )\n",
              "    (2): Bottleneck(\n",
              "      (conv1): Conv2d(1024, 256, kernel_size=(1, 1), stride=(1, 1), bias=False)\n",
              "      (bn1): BatchNorm2d(256, eps=1e-05, momentum=0.1, affine=True, track_running_stats=True)\n",
              "      (conv2): Conv2d(256, 256, kernel_size=(3, 3), stride=(1, 1), padding=(1, 1), bias=False)\n",
              "      (bn2): BatchNorm2d(256, eps=1e-05, momentum=0.1, affine=True, track_running_stats=True)\n",
              "      (conv3): Conv2d(256, 1024, kernel_size=(1, 1), stride=(1, 1), bias=False)\n",
              "      (bn3): BatchNorm2d(1024, eps=1e-05, momentum=0.1, affine=True, track_running_stats=True)\n",
              "      (relu): ReLU(inplace=True)\n",
              "    )\n",
              "    (3): Bottleneck(\n",
              "      (conv1): Conv2d(1024, 256, kernel_size=(1, 1), stride=(1, 1), bias=False)\n",
              "      (bn1): BatchNorm2d(256, eps=1e-05, momentum=0.1, affine=True, track_running_stats=True)\n",
              "      (conv2): Conv2d(256, 256, kernel_size=(3, 3), stride=(1, 1), padding=(1, 1), bias=False)\n",
              "      (bn2): BatchNorm2d(256, eps=1e-05, momentum=0.1, affine=True, track_running_stats=True)\n",
              "      (conv3): Conv2d(256, 1024, kernel_size=(1, 1), stride=(1, 1), bias=False)\n",
              "      (bn3): BatchNorm2d(1024, eps=1e-05, momentum=0.1, affine=True, track_running_stats=True)\n",
              "      (relu): ReLU(inplace=True)\n",
              "    )\n",
              "    (4): Bottleneck(\n",
              "      (conv1): Conv2d(1024, 256, kernel_size=(1, 1), stride=(1, 1), bias=False)\n",
              "      (bn1): BatchNorm2d(256, eps=1e-05, momentum=0.1, affine=True, track_running_stats=True)\n",
              "      (conv2): Conv2d(256, 256, kernel_size=(3, 3), stride=(1, 1), padding=(1, 1), bias=False)\n",
              "      (bn2): BatchNorm2d(256, eps=1e-05, momentum=0.1, affine=True, track_running_stats=True)\n",
              "      (conv3): Conv2d(256, 1024, kernel_size=(1, 1), stride=(1, 1), bias=False)\n",
              "      (bn3): BatchNorm2d(1024, eps=1e-05, momentum=0.1, affine=True, track_running_stats=True)\n",
              "      (relu): ReLU(inplace=True)\n",
              "    )\n",
              "    (5): Bottleneck(\n",
              "      (conv1): Conv2d(1024, 256, kernel_size=(1, 1), stride=(1, 1), bias=False)\n",
              "      (bn1): BatchNorm2d(256, eps=1e-05, momentum=0.1, affine=True, track_running_stats=True)\n",
              "      (conv2): Conv2d(256, 256, kernel_size=(3, 3), stride=(1, 1), padding=(1, 1), bias=False)\n",
              "      (bn2): BatchNorm2d(256, eps=1e-05, momentum=0.1, affine=True, track_running_stats=True)\n",
              "      (conv3): Conv2d(256, 1024, kernel_size=(1, 1), stride=(1, 1), bias=False)\n",
              "      (bn3): BatchNorm2d(1024, eps=1e-05, momentum=0.1, affine=True, track_running_stats=True)\n",
              "      (relu): ReLU(inplace=True)\n",
              "    )\n",
              "    (6): Bottleneck(\n",
              "      (conv1): Conv2d(1024, 256, kernel_size=(1, 1), stride=(1, 1), bias=False)\n",
              "      (bn1): BatchNorm2d(256, eps=1e-05, momentum=0.1, affine=True, track_running_stats=True)\n",
              "      (conv2): Conv2d(256, 256, kernel_size=(3, 3), stride=(1, 1), padding=(1, 1), bias=False)\n",
              "      (bn2): BatchNorm2d(256, eps=1e-05, momentum=0.1, affine=True, track_running_stats=True)\n",
              "      (conv3): Conv2d(256, 1024, kernel_size=(1, 1), stride=(1, 1), bias=False)\n",
              "      (bn3): BatchNorm2d(1024, eps=1e-05, momentum=0.1, affine=True, track_running_stats=True)\n",
              "      (relu): ReLU(inplace=True)\n",
              "    )\n",
              "    (7): Bottleneck(\n",
              "      (conv1): Conv2d(1024, 256, kernel_size=(1, 1), stride=(1, 1), bias=False)\n",
              "      (bn1): BatchNorm2d(256, eps=1e-05, momentum=0.1, affine=True, track_running_stats=True)\n",
              "      (conv2): Conv2d(256, 256, kernel_size=(3, 3), stride=(1, 1), padding=(1, 1), bias=False)\n",
              "      (bn2): BatchNorm2d(256, eps=1e-05, momentum=0.1, affine=True, track_running_stats=True)\n",
              "      (conv3): Conv2d(256, 1024, kernel_size=(1, 1), stride=(1, 1), bias=False)\n",
              "      (bn3): BatchNorm2d(1024, eps=1e-05, momentum=0.1, affine=True, track_running_stats=True)\n",
              "      (relu): ReLU(inplace=True)\n",
              "    )\n",
              "    (8): Bottleneck(\n",
              "      (conv1): Conv2d(1024, 256, kernel_size=(1, 1), stride=(1, 1), bias=False)\n",
              "      (bn1): BatchNorm2d(256, eps=1e-05, momentum=0.1, affine=True, track_running_stats=True)\n",
              "      (conv2): Conv2d(256, 256, kernel_size=(3, 3), stride=(1, 1), padding=(1, 1), bias=False)\n",
              "      (bn2): BatchNorm2d(256, eps=1e-05, momentum=0.1, affine=True, track_running_stats=True)\n",
              "      (conv3): Conv2d(256, 1024, kernel_size=(1, 1), stride=(1, 1), bias=False)\n",
              "      (bn3): BatchNorm2d(1024, eps=1e-05, momentum=0.1, affine=True, track_running_stats=True)\n",
              "      (relu): ReLU(inplace=True)\n",
              "    )\n",
              "    (9): Bottleneck(\n",
              "      (conv1): Conv2d(1024, 256, kernel_size=(1, 1), stride=(1, 1), bias=False)\n",
              "      (bn1): BatchNorm2d(256, eps=1e-05, momentum=0.1, affine=True, track_running_stats=True)\n",
              "      (conv2): Conv2d(256, 256, kernel_size=(3, 3), stride=(1, 1), padding=(1, 1), bias=False)\n",
              "      (bn2): BatchNorm2d(256, eps=1e-05, momentum=0.1, affine=True, track_running_stats=True)\n",
              "      (conv3): Conv2d(256, 1024, kernel_size=(1, 1), stride=(1, 1), bias=False)\n",
              "      (bn3): BatchNorm2d(1024, eps=1e-05, momentum=0.1, affine=True, track_running_stats=True)\n",
              "      (relu): ReLU(inplace=True)\n",
              "    )\n",
              "    (10): Bottleneck(\n",
              "      (conv1): Conv2d(1024, 256, kernel_size=(1, 1), stride=(1, 1), bias=False)\n",
              "      (bn1): BatchNorm2d(256, eps=1e-05, momentum=0.1, affine=True, track_running_stats=True)\n",
              "      (conv2): Conv2d(256, 256, kernel_size=(3, 3), stride=(1, 1), padding=(1, 1), bias=False)\n",
              "      (bn2): BatchNorm2d(256, eps=1e-05, momentum=0.1, affine=True, track_running_stats=True)\n",
              "      (conv3): Conv2d(256, 1024, kernel_size=(1, 1), stride=(1, 1), bias=False)\n",
              "      (bn3): BatchNorm2d(1024, eps=1e-05, momentum=0.1, affine=True, track_running_stats=True)\n",
              "      (relu): ReLU(inplace=True)\n",
              "    )\n",
              "    (11): Bottleneck(\n",
              "      (conv1): Conv2d(1024, 256, kernel_size=(1, 1), stride=(1, 1), bias=False)\n",
              "      (bn1): BatchNorm2d(256, eps=1e-05, momentum=0.1, affine=True, track_running_stats=True)\n",
              "      (conv2): Conv2d(256, 256, kernel_size=(3, 3), stride=(1, 1), padding=(1, 1), bias=False)\n",
              "      (bn2): BatchNorm2d(256, eps=1e-05, momentum=0.1, affine=True, track_running_stats=True)\n",
              "      (conv3): Conv2d(256, 1024, kernel_size=(1, 1), stride=(1, 1), bias=False)\n",
              "      (bn3): BatchNorm2d(1024, eps=1e-05, momentum=0.1, affine=True, track_running_stats=True)\n",
              "      (relu): ReLU(inplace=True)\n",
              "    )\n",
              "    (12): Bottleneck(\n",
              "      (conv1): Conv2d(1024, 256, kernel_size=(1, 1), stride=(1, 1), bias=False)\n",
              "      (bn1): BatchNorm2d(256, eps=1e-05, momentum=0.1, affine=True, track_running_stats=True)\n",
              "      (conv2): Conv2d(256, 256, kernel_size=(3, 3), stride=(1, 1), padding=(1, 1), bias=False)\n",
              "      (bn2): BatchNorm2d(256, eps=1e-05, momentum=0.1, affine=True, track_running_stats=True)\n",
              "      (conv3): Conv2d(256, 1024, kernel_size=(1, 1), stride=(1, 1), bias=False)\n",
              "      (bn3): BatchNorm2d(1024, eps=1e-05, momentum=0.1, affine=True, track_running_stats=True)\n",
              "      (relu): ReLU(inplace=True)\n",
              "    )\n",
              "    (13): Bottleneck(\n",
              "      (conv1): Conv2d(1024, 256, kernel_size=(1, 1), stride=(1, 1), bias=False)\n",
              "      (bn1): BatchNorm2d(256, eps=1e-05, momentum=0.1, affine=True, track_running_stats=True)\n",
              "      (conv2): Conv2d(256, 256, kernel_size=(3, 3), stride=(1, 1), padding=(1, 1), bias=False)\n",
              "      (bn2): BatchNorm2d(256, eps=1e-05, momentum=0.1, affine=True, track_running_stats=True)\n",
              "      (conv3): Conv2d(256, 1024, kernel_size=(1, 1), stride=(1, 1), bias=False)\n",
              "      (bn3): BatchNorm2d(1024, eps=1e-05, momentum=0.1, affine=True, track_running_stats=True)\n",
              "      (relu): ReLU(inplace=True)\n",
              "    )\n",
              "    (14): Bottleneck(\n",
              "      (conv1): Conv2d(1024, 256, kernel_size=(1, 1), stride=(1, 1), bias=False)\n",
              "      (bn1): BatchNorm2d(256, eps=1e-05, momentum=0.1, affine=True, track_running_stats=True)\n",
              "      (conv2): Conv2d(256, 256, kernel_size=(3, 3), stride=(1, 1), padding=(1, 1), bias=False)\n",
              "      (bn2): BatchNorm2d(256, eps=1e-05, momentum=0.1, affine=True, track_running_stats=True)\n",
              "      (conv3): Conv2d(256, 1024, kernel_size=(1, 1), stride=(1, 1), bias=False)\n",
              "      (bn3): BatchNorm2d(1024, eps=1e-05, momentum=0.1, affine=True, track_running_stats=True)\n",
              "      (relu): ReLU(inplace=True)\n",
              "    )\n",
              "    (15): Bottleneck(\n",
              "      (conv1): Conv2d(1024, 256, kernel_size=(1, 1), stride=(1, 1), bias=False)\n",
              "      (bn1): BatchNorm2d(256, eps=1e-05, momentum=0.1, affine=True, track_running_stats=True)\n",
              "      (conv2): Conv2d(256, 256, kernel_size=(3, 3), stride=(1, 1), padding=(1, 1), bias=False)\n",
              "      (bn2): BatchNorm2d(256, eps=1e-05, momentum=0.1, affine=True, track_running_stats=True)\n",
              "      (conv3): Conv2d(256, 1024, kernel_size=(1, 1), stride=(1, 1), bias=False)\n",
              "      (bn3): BatchNorm2d(1024, eps=1e-05, momentum=0.1, affine=True, track_running_stats=True)\n",
              "      (relu): ReLU(inplace=True)\n",
              "    )\n",
              "    (16): Bottleneck(\n",
              "      (conv1): Conv2d(1024, 256, kernel_size=(1, 1), stride=(1, 1), bias=False)\n",
              "      (bn1): BatchNorm2d(256, eps=1e-05, momentum=0.1, affine=True, track_running_stats=True)\n",
              "      (conv2): Conv2d(256, 256, kernel_size=(3, 3), stride=(1, 1), padding=(1, 1), bias=False)\n",
              "      (bn2): BatchNorm2d(256, eps=1e-05, momentum=0.1, affine=True, track_running_stats=True)\n",
              "      (conv3): Conv2d(256, 1024, kernel_size=(1, 1), stride=(1, 1), bias=False)\n",
              "      (bn3): BatchNorm2d(1024, eps=1e-05, momentum=0.1, affine=True, track_running_stats=True)\n",
              "      (relu): ReLU(inplace=True)\n",
              "    )\n",
              "    (17): Bottleneck(\n",
              "      (conv1): Conv2d(1024, 256, kernel_size=(1, 1), stride=(1, 1), bias=False)\n",
              "      (bn1): BatchNorm2d(256, eps=1e-05, momentum=0.1, affine=True, track_running_stats=True)\n",
              "      (conv2): Conv2d(256, 256, kernel_size=(3, 3), stride=(1, 1), padding=(1, 1), bias=False)\n",
              "      (bn2): BatchNorm2d(256, eps=1e-05, momentum=0.1, affine=True, track_running_stats=True)\n",
              "      (conv3): Conv2d(256, 1024, kernel_size=(1, 1), stride=(1, 1), bias=False)\n",
              "      (bn3): BatchNorm2d(1024, eps=1e-05, momentum=0.1, affine=True, track_running_stats=True)\n",
              "      (relu): ReLU(inplace=True)\n",
              "    )\n",
              "    (18): Bottleneck(\n",
              "      (conv1): Conv2d(1024, 256, kernel_size=(1, 1), stride=(1, 1), bias=False)\n",
              "      (bn1): BatchNorm2d(256, eps=1e-05, momentum=0.1, affine=True, track_running_stats=True)\n",
              "      (conv2): Conv2d(256, 256, kernel_size=(3, 3), stride=(1, 1), padding=(1, 1), bias=False)\n",
              "      (bn2): BatchNorm2d(256, eps=1e-05, momentum=0.1, affine=True, track_running_stats=True)\n",
              "      (conv3): Conv2d(256, 1024, kernel_size=(1, 1), stride=(1, 1), bias=False)\n",
              "      (bn3): BatchNorm2d(1024, eps=1e-05, momentum=0.1, affine=True, track_running_stats=True)\n",
              "      (relu): ReLU(inplace=True)\n",
              "    )\n",
              "    (19): Bottleneck(\n",
              "      (conv1): Conv2d(1024, 256, kernel_size=(1, 1), stride=(1, 1), bias=False)\n",
              "      (bn1): BatchNorm2d(256, eps=1e-05, momentum=0.1, affine=True, track_running_stats=True)\n",
              "      (conv2): Conv2d(256, 256, kernel_size=(3, 3), stride=(1, 1), padding=(1, 1), bias=False)\n",
              "      (bn2): BatchNorm2d(256, eps=1e-05, momentum=0.1, affine=True, track_running_stats=True)\n",
              "      (conv3): Conv2d(256, 1024, kernel_size=(1, 1), stride=(1, 1), bias=False)\n",
              "      (bn3): BatchNorm2d(1024, eps=1e-05, momentum=0.1, affine=True, track_running_stats=True)\n",
              "      (relu): ReLU(inplace=True)\n",
              "    )\n",
              "    (20): Bottleneck(\n",
              "      (conv1): Conv2d(1024, 256, kernel_size=(1, 1), stride=(1, 1), bias=False)\n",
              "      (bn1): BatchNorm2d(256, eps=1e-05, momentum=0.1, affine=True, track_running_stats=True)\n",
              "      (conv2): Conv2d(256, 256, kernel_size=(3, 3), stride=(1, 1), padding=(1, 1), bias=False)\n",
              "      (bn2): BatchNorm2d(256, eps=1e-05, momentum=0.1, affine=True, track_running_stats=True)\n",
              "      (conv3): Conv2d(256, 1024, kernel_size=(1, 1), stride=(1, 1), bias=False)\n",
              "      (bn3): BatchNorm2d(1024, eps=1e-05, momentum=0.1, affine=True, track_running_stats=True)\n",
              "      (relu): ReLU(inplace=True)\n",
              "    )\n",
              "    (21): Bottleneck(\n",
              "      (conv1): Conv2d(1024, 256, kernel_size=(1, 1), stride=(1, 1), bias=False)\n",
              "      (bn1): BatchNorm2d(256, eps=1e-05, momentum=0.1, affine=True, track_running_stats=True)\n",
              "      (conv2): Conv2d(256, 256, kernel_size=(3, 3), stride=(1, 1), padding=(1, 1), bias=False)\n",
              "      (bn2): BatchNorm2d(256, eps=1e-05, momentum=0.1, affine=True, track_running_stats=True)\n",
              "      (conv3): Conv2d(256, 1024, kernel_size=(1, 1), stride=(1, 1), bias=False)\n",
              "      (bn3): BatchNorm2d(1024, eps=1e-05, momentum=0.1, affine=True, track_running_stats=True)\n",
              "      (relu): ReLU(inplace=True)\n",
              "    )\n",
              "    (22): Bottleneck(\n",
              "      (conv1): Conv2d(1024, 256, kernel_size=(1, 1), stride=(1, 1), bias=False)\n",
              "      (bn1): BatchNorm2d(256, eps=1e-05, momentum=0.1, affine=True, track_running_stats=True)\n",
              "      (conv2): Conv2d(256, 256, kernel_size=(3, 3), stride=(1, 1), padding=(1, 1), bias=False)\n",
              "      (bn2): BatchNorm2d(256, eps=1e-05, momentum=0.1, affine=True, track_running_stats=True)\n",
              "      (conv3): Conv2d(256, 1024, kernel_size=(1, 1), stride=(1, 1), bias=False)\n",
              "      (bn3): BatchNorm2d(1024, eps=1e-05, momentum=0.1, affine=True, track_running_stats=True)\n",
              "      (relu): ReLU(inplace=True)\n",
              "    )\n",
              "  )\n",
              "  (layer4): Sequential(\n",
              "    (0): Bottleneck(\n",
              "      (conv1): Conv2d(1024, 512, kernel_size=(1, 1), stride=(1, 1), bias=False)\n",
              "      (bn1): BatchNorm2d(512, eps=1e-05, momentum=0.1, affine=True, track_running_stats=True)\n",
              "      (conv2): Conv2d(512, 512, kernel_size=(3, 3), stride=(2, 2), padding=(1, 1), bias=False)\n",
              "      (bn2): BatchNorm2d(512, eps=1e-05, momentum=0.1, affine=True, track_running_stats=True)\n",
              "      (conv3): Conv2d(512, 2048, kernel_size=(1, 1), stride=(1, 1), bias=False)\n",
              "      (bn3): BatchNorm2d(2048, eps=1e-05, momentum=0.1, affine=True, track_running_stats=True)\n",
              "      (relu): ReLU(inplace=True)\n",
              "      (downsample): Sequential(\n",
              "        (0): Conv2d(1024, 2048, kernel_size=(1, 1), stride=(2, 2), bias=False)\n",
              "        (1): BatchNorm2d(2048, eps=1e-05, momentum=0.1, affine=True, track_running_stats=True)\n",
              "      )\n",
              "    )\n",
              "    (1): Bottleneck(\n",
              "      (conv1): Conv2d(2048, 512, kernel_size=(1, 1), stride=(1, 1), bias=False)\n",
              "      (bn1): BatchNorm2d(512, eps=1e-05, momentum=0.1, affine=True, track_running_stats=True)\n",
              "      (conv2): Conv2d(512, 512, kernel_size=(3, 3), stride=(1, 1), padding=(1, 1), bias=False)\n",
              "      (bn2): BatchNorm2d(512, eps=1e-05, momentum=0.1, affine=True, track_running_stats=True)\n",
              "      (conv3): Conv2d(512, 2048, kernel_size=(1, 1), stride=(1, 1), bias=False)\n",
              "      (bn3): BatchNorm2d(2048, eps=1e-05, momentum=0.1, affine=True, track_running_stats=True)\n",
              "      (relu): ReLU(inplace=True)\n",
              "    )\n",
              "    (2): Bottleneck(\n",
              "      (conv1): Conv2d(2048, 512, kernel_size=(1, 1), stride=(1, 1), bias=False)\n",
              "      (bn1): BatchNorm2d(512, eps=1e-05, momentum=0.1, affine=True, track_running_stats=True)\n",
              "      (conv2): Conv2d(512, 512, kernel_size=(3, 3), stride=(1, 1), padding=(1, 1), bias=False)\n",
              "      (bn2): BatchNorm2d(512, eps=1e-05, momentum=0.1, affine=True, track_running_stats=True)\n",
              "      (conv3): Conv2d(512, 2048, kernel_size=(1, 1), stride=(1, 1), bias=False)\n",
              "      (bn3): BatchNorm2d(2048, eps=1e-05, momentum=0.1, affine=True, track_running_stats=True)\n",
              "      (relu): ReLU(inplace=True)\n",
              "    )\n",
              "  )\n",
              "  (avgpool): AdaptiveAvgPool2d(output_size=(1, 1))\n",
              "  (fc): Linear(in_features=2048, out_features=1000, bias=True)\n",
              ")"
            ]
          },
          "metadata": {
            "tags": []
          },
          "execution_count": 11
        }
      ]
    },
    {
      "cell_type": "markdown",
      "metadata": {
        "id": "6tbAP31_KF8A"
      },
      "source": [
        "This is our output with 1000 probabilities with respective classes"
      ]
    },
    {
      "cell_type": "code",
      "metadata": {
        "colab": {
          "base_uri": "https://localhost:8080/"
        },
        "id": "WjeAkvhM9aZk",
        "outputId": "4ea454bc-a897-4b10-ab97-fcfae145473d"
      },
      "source": [
        "out = resnet(batch_t)\n",
        "out"
      ],
      "execution_count": 12,
      "outputs": [
        {
          "output_type": "stream",
          "text": [
            "/usr/local/lib/python3.7/dist-packages/torch/nn/functional.py:718: UserWarning: Named tensors and all their associated APIs are an experimental feature and subject to change. Please do not use them for anything important until they are released as stable. (Triggered internally at  /pytorch/c10/core/TensorImpl.h:1156.)\n",
            "  return torch.max_pool2d(input, kernel_size, stride, padding, dilation, ceil_mode)\n"
          ],
          "name": "stderr"
        },
        {
          "output_type": "execute_result",
          "data": {
            "text/plain": [
              "tensor([[-2.2563e-01, -5.5508e-01, -1.1641e+00, -1.3976e+00, -2.8673e+00,\n",
              "          7.9022e-01, -2.6190e+00, -2.0641e+00, -1.7005e+00, -3.3859e+00,\n",
              "          9.3209e-01, -5.6517e-01, -2.0349e+00, -1.3654e+00, -2.1478e+00,\n",
              "         -3.3301e+00, -2.9935e+00, -1.7439e+00, -1.9983e+00, -2.8796e+00,\n",
              "         -2.3346e+00, -3.1967e+00, -4.0660e+00, -1.9613e+00, -3.6870e+00,\n",
              "         -1.0628e+00, -5.0741e-01, -1.8404e+00, -2.7544e-01, -3.5636e-01,\n",
              "         -1.7563e+00, -1.4935e+00,  2.4154e-01, -1.2143e+00, -8.2584e-01,\n",
              "         -3.2272e-01,  1.0523e-01, -1.5891e+00,  5.2379e-01, -2.8908e+00,\n",
              "         -1.2459e+00, -1.2889e-01,  6.7907e-01, -5.2151e-01, -1.3709e+00,\n",
              "         -2.6923e-01, -8.5412e-01, -1.8610e-01, -2.5375e+00, -3.2725e+00,\n",
              "         -2.9576e+00, -2.3286e-01, -8.0288e-01, -1.0954e+00, -7.3948e-01,\n",
              "         -1.7743e+00, -1.2720e-01, -1.4661e+00, -2.6428e+00, -1.9506e-01,\n",
              "          1.5211e+00,  7.7614e-01,  1.0899e+00,  1.4920e+00,  2.5634e-02,\n",
              "         -3.7632e-01,  9.6254e-01,  1.0286e+00,  1.3979e+00, -1.4448e+00,\n",
              "         -3.0022e-01, -6.4908e-01, -4.9734e-01,  3.0428e-01, -1.2956e+00,\n",
              "         -1.3788e-01, -2.7170e+00, -2.0033e+00,  1.0347e+00, -1.6918e-01,\n",
              "          2.1942e-01, -4.1425e+00, -9.8669e-01, -7.0465e-01, -2.3689e+00,\n",
              "         -2.9315e+00,  1.6698e-01, -9.2660e-01, -2.4750e+00, -4.0705e+00,\n",
              "         -2.6137e+00, -3.2593e+00, -1.4093e+00, -2.2739e+00, -5.8049e-01,\n",
              "         -1.0952e+00, -2.0615e+00, -2.4116e+00,  1.0818e-01, -1.5213e+00,\n",
              "         -3.1619e+00, -1.3114e+00, -1.0544e+00, -4.5127e-01,  1.1404e+00,\n",
              "         -1.3445e+00, -6.9303e-01, -2.1522e+00, -2.4941e+00, -2.4310e+00,\n",
              "         -2.3561e+00, -1.4898e+00,  8.5613e-03,  1.3786e+00,  1.3830e-01,\n",
              "         -1.6255e+00, -2.0488e+00, -5.3766e-01, -1.0829e+00, -1.5420e+00,\n",
              "         -2.1582e+00, -1.0124e+00, -1.2122e+00, -1.3788e+00, -1.0559e+00,\n",
              "         -1.4767e+00,  9.1771e-01, -3.5910e+00, -1.6013e+00, -3.6750e+00,\n",
              "         -3.6885e+00, -3.2696e+00, -3.7694e+00, -1.8524e+00, -2.3617e+00,\n",
              "         -3.0567e+00,  2.9142e-01, -2.0719e+00, -2.7415e+00, -8.8510e-01,\n",
              "         -8.9778e-01, -3.5242e+00, -1.3485e+00, -3.1337e+00, -4.3014e+00,\n",
              "         -8.5703e-01, -3.5270e+00, -3.2526e+00, -1.1810e+00, -2.5349e+00,\n",
              "          1.0207e+00,  7.3269e+00,  3.8157e-02,  6.7664e-01, -3.3018e-01,\n",
              "         -1.3213e+00, -1.6750e+00, -3.3581e-01,  6.2108e+00,  6.0117e+00,\n",
              "          5.8457e-01,  4.2153e-01,  5.6932e+00,  4.6350e+00,  4.7448e+00,\n",
              "          5.7890e+00,  4.8288e+00,  5.5922e+00,  5.5634e+00, -4.6085e-02,\n",
              "          1.1692e+00,  5.4444e+00,  5.3975e+00,  3.5548e+00,  2.7467e+00,\n",
              "          1.6584e+00,  4.6185e+00,  1.5799e+00,  1.7871e+00,  6.8744e+00,\n",
              "          7.9876e+00,  8.4495e-01,  4.4599e+00, -7.0378e-02,  1.3730e+00,\n",
              "          3.0516e+00,  3.0599e+00,  1.3928e+00,  3.4039e+00,  3.3890e+00,\n",
              "          7.4311e-02,  1.7143e+00,  2.3260e+00,  3.6865e+00,  3.1486e+00,\n",
              "          2.6734e+00,  1.9831e+00,  1.6729e+00,  1.5730e+00,  1.4015e+00,\n",
              "          2.4441e+00,  1.3308e+00,  1.5796e-01,  7.6031e-01, -4.1789e-01,\n",
              "          4.6082e-01,  1.5890e+00,  4.6513e+00,  7.3298e+00,  2.6197e+00,\n",
              "          2.7442e+00,  3.3956e+00,  7.9315e-01, -2.7664e-01,  8.7367e-01,\n",
              "          1.5813e+00, -3.1108e-01, -3.0094e+00, -6.1967e-01,  1.7049e+00,\n",
              "          1.8218e+00, -1.7021e-01,  7.9155e-01,  1.4519e+00, -8.1314e-01,\n",
              "          4.0325e+00,  1.8579e-01,  7.3059e+00, -1.2440e+00, -1.2202e+00,\n",
              "         -2.0303e-01,  1.2102e+00,  6.0732e-01, -2.4880e+00,  4.7324e+00,\n",
              "          5.0154e+00,  6.1998e+00,  5.7520e+00,  3.8464e+00, -9.0455e-01,\n",
              "          3.6037e+00,  3.9283e+00,  2.2245e+00,  4.3601e+00,  2.7361e+00,\n",
              "          2.8752e+00,  4.8480e+00,  1.0335e-01,  4.9604e+00,  2.1965e+00,\n",
              "          3.4017e+00,  2.4127e+00,  4.5296e-02,  5.9561e+00,  1.1238e+00,\n",
              "         -2.0610e-01, -5.1462e-01,  1.0756e+00, -1.7362e+00,  1.4287e+00,\n",
              "          2.3445e+00, -9.9052e-01,  2.3381e+00,  3.5093e+00,  2.8255e+00,\n",
              "          5.7073e-01,  9.1730e-01,  8.7759e-01,  4.2095e+00,  1.0526e+00,\n",
              "          2.4776e-01,  2.8253e+00,  9.3601e-01,  7.7888e+00,  1.9141e+00,\n",
              "          9.3903e-01,  6.9823e-01, -8.7176e-01,  3.9414e-01, -2.5147e+00,\n",
              "         -2.0532e-01,  2.1953e+00,  9.6399e-01, -3.0120e+00,  1.2174e+00,\n",
              "          3.1705e+00,  1.8011e+00, -6.4200e-01,  1.6088e-01, -3.1941e+00,\n",
              "          2.8723e+00, -2.4528e-01, -5.9323e-01,  1.2894e+00,  1.3963e+00,\n",
              "          3.1228e-02, -8.7359e-01,  8.1969e-02,  2.2716e-01,  1.3068e+00,\n",
              "          2.1501e+00,  1.8527e+00,  2.1803e+00,  8.5352e-01,  1.9193e+00,\n",
              "          3.2437e-02,  8.9184e-01,  1.8186e+00, -1.6278e+00, -6.3795e-01,\n",
              "          4.0214e-01, -7.4980e-02,  1.6798e+00, -8.0416e-01,  1.0396e+00,\n",
              "         -1.8166e+00, -1.9595e+00, -5.1425e-01, -1.4501e-01, -2.4219e-01,\n",
              "         -3.3321e-01, -2.5919e+00, -1.0292e+00,  6.0826e-02, -2.7551e+00,\n",
              "         -1.0530e+00, -8.2802e-01, -1.8317e+00, -1.7185e+00, -2.8368e+00,\n",
              "         -1.1796e-01, -1.4603e+00, -1.9057e+00, -1.0418e+00, -2.3437e+00,\n",
              "         -7.8638e-01, -3.1920e+00, -1.1851e+00, -1.3911e+00, -2.3479e-01,\n",
              "         -9.7878e-01,  9.4703e-01, -5.8829e-02, -3.1423e+00, -2.2217e+00,\n",
              "         -1.2896e+00, -1.9991e+00, -3.6781e+00, -2.7691e+00, -9.1394e-01,\n",
              "         -7.4587e-01, -4.9620e-01,  7.8648e-01,  7.1004e-01, -4.9634e-01,\n",
              "         -1.5547e+00,  1.4183e+00,  1.7082e-01,  7.1743e-01,  2.1730e+00,\n",
              "          1.5283e-01, -1.8597e+00,  5.1966e-02,  1.4309e-01, -7.1638e-01,\n",
              "         -3.5421e+00, -2.9291e+00, -2.4209e+00, -1.8741e+00, -2.6774e+00,\n",
              "          2.6601e-01,  7.3789e-01, -2.0685e+00, -4.8693e-01, -1.7605e+00,\n",
              "         -1.6559e+00,  8.8690e-01, -1.2182e+00, -1.6627e-01, -9.8880e-01,\n",
              "         -4.6001e-01, -1.6776e+00,  3.1115e-01, -1.4650e+00, -8.6553e-01,\n",
              "         -9.2787e-01, -2.1975e+00, -8.1215e-01, -6.6812e-01,  1.3591e-01,\n",
              "         -1.0694e+00, -2.2876e+00, -5.2679e-02, -4.6765e+00, -1.5368e+00,\n",
              "         -3.9320e-01, -3.5736e+00,  3.8495e-01,  1.4052e+00,  1.6060e+00,\n",
              "          8.6221e-01,  1.4887e+00, -1.0147e-01, -3.0832e+00, -3.2761e+00,\n",
              "         -1.6635e+00, -2.3168e+00, -1.0714e+00,  3.8947e-01, -2.4437e-01,\n",
              "         -2.4037e+00,  1.3604e+00, -6.5205e-01, -1.4200e-01, -1.5228e-01,\n",
              "          5.3179e-01,  1.7363e+00, -1.1702e-01, -3.5507e-02,  1.4972e+00,\n",
              "          1.1096e+00,  1.4483e-01,  1.0073e+00,  1.6631e+00, -5.7161e-01,\n",
              "         -3.1436e+00,  6.0463e-01,  1.0287e+00,  3.2670e-01,  2.8133e-01,\n",
              "          9.6757e-02, -8.8904e-02, -3.6455e-01,  2.7674e+00,  2.5973e+00,\n",
              "         -9.1100e-01,  1.3700e-01, -6.1255e-01,  3.6863e-01, -4.3734e-01,\n",
              "          5.5435e-01, -3.1246e-02,  1.4247e-01,  7.6735e-01, -7.2067e-01,\n",
              "         -6.8911e-01,  3.0382e-01,  2.1184e-01, -1.5902e-01,  2.6798e-03,\n",
              "         -6.0812e-01,  1.0792e-01,  5.3566e-01,  7.5605e-01, -1.1220e+00,\n",
              "          7.3646e-01, -1.7232e+00,  1.8147e+00, -3.1416e+00,  1.3885e+00,\n",
              "         -1.3715e+00,  2.8552e-01,  2.7362e-01, -3.8200e-01, -9.9551e-01,\n",
              "          3.5873e+00, -7.4948e-01, -1.9612e+00, -6.7092e-01,  1.0735e+00,\n",
              "          7.8981e-02, -7.2441e-01,  2.2124e-01, -8.5942e-01, -7.3345e-01,\n",
              "         -5.3680e-01, -1.8475e-01, -3.5607e-01,  1.7569e-01,  6.4258e-01,\n",
              "          3.1611e-01,  1.3782e-01, -3.6295e-01, -1.0840e+00, -1.7159e+00,\n",
              "         -1.0083e+00, -1.3503e+00, -3.5783e-01,  1.6597e+00, -3.4272e-01,\n",
              "          1.9082e+00,  6.4163e-01, -6.5509e-01, -7.9097e-01,  1.1182e-01,\n",
              "          1.0687e-01, -2.1453e-01, -1.3111e+00, -5.7405e-02, -1.1152e+00,\n",
              "         -3.0342e+00,  1.2509e-01,  8.9638e-01,  2.8725e-01,  3.9860e-01,\n",
              "          4.5928e-01,  8.8513e-01, -6.6633e-01, -2.3885e-01,  2.6334e-01,\n",
              "         -1.4824e+00,  4.7658e-01,  4.9314e-01, -9.6814e-01,  6.2659e-01,\n",
              "          2.2519e+00, -1.1609e-02,  2.5357e-01,  7.3537e-01,  8.8869e-01,\n",
              "         -1.0215e+00, -5.2031e-01,  9.3775e-01,  1.7751e-01,  3.7038e-01,\n",
              "         -1.2393e+00, -3.8876e-01, -7.5919e-01,  6.1455e-01, -1.5980e-01,\n",
              "         -4.4750e-02,  1.0046e+00, -6.8131e-01, -5.7327e-01,  2.6038e+00,\n",
              "          5.1688e-01, -1.8934e+00,  3.2621e+00, -1.1725e+00,  2.7147e+00,\n",
              "         -1.9931e+00,  2.2905e+00,  2.0252e+00,  3.0197e+00, -2.8898e-01,\n",
              "          1.0149e+00, -9.0618e-01, -6.2477e-02, -3.4118e-01, -8.1795e-01,\n",
              "          2.2997e+00,  2.0988e+00,  1.6526e+00, -4.8147e-01, -1.6335e+00,\n",
              "         -6.1020e-01,  1.0734e+00, -1.8922e+00, -4.3530e-01,  4.0022e-01,\n",
              "         -1.0719e+00, -1.0993e+00, -8.4711e-01, -9.4585e-01,  1.5766e-01,\n",
              "         -1.0884e+00, -8.5599e-01,  2.5265e+00, -7.3276e-02, -1.1154e+00,\n",
              "         -3.9751e-02, -1.6492e+00,  1.5100e+00, -6.1897e-01,  1.4580e+00,\n",
              "          1.7085e+00, -8.9922e-02,  1.3593e+00,  1.0714e+00, -2.2496e-01,\n",
              "         -9.5715e-01, -1.3295e+00,  3.7212e-01, -6.4649e-01, -2.2197e-02,\n",
              "          2.2075e-01,  4.3252e-01,  6.0165e-01,  1.0362e+00,  1.9784e+00,\n",
              "          5.6295e-01,  9.2288e-01, -1.8421e+00,  6.0225e-01, -7.9105e-01,\n",
              "         -5.6826e-01, -8.7289e-01, -1.1751e+00,  6.9233e-02,  9.2153e-01,\n",
              "          1.9340e-01,  1.7606e+00,  1.6096e+00, -1.0119e+00,  5.3361e-01,\n",
              "         -1.3679e+00, -2.3073e-01, -1.3129e+00,  5.9964e-01,  1.1687e+00,\n",
              "          1.3034e+00, -2.0687e-01,  4.7518e-01,  9.7803e-01, -7.3452e-01,\n",
              "          5.8191e-01, -1.2436e+00,  1.2735e+00,  1.4355e+00,  2.3030e+00,\n",
              "          1.3743e+00,  8.0473e-01,  9.3339e-01, -1.0150e+00, -2.6821e-01,\n",
              "         -2.7544e+00, -1.0483e+00, -4.2835e-01, -2.6598e+00,  9.9451e-01,\n",
              "         -1.0063e+00, -5.1562e-02,  3.5860e-01,  3.1675e+00,  1.1965e+00,\n",
              "          1.8130e-02, -1.1759e+00, -2.0656e+00,  1.7654e+00,  2.1357e+00,\n",
              "         -1.5684e+00,  2.9187e+00, -1.0205e+00,  1.2765e-01,  1.0581e+00,\n",
              "         -1.9132e+00, -2.6872e-01,  6.3753e-01, -6.1325e-01, -3.0832e+00,\n",
              "          1.2241e+00, -8.4045e-01,  2.5908e-01,  4.4514e-01, -9.1725e-01,\n",
              "          4.5200e-01,  2.0276e-01, -1.3054e+00, -1.2464e-01,  4.4171e-01,\n",
              "          2.0422e-02,  1.0435e+00, -7.9156e-01, -6.5436e-01,  2.0448e-01,\n",
              "          6.5980e-01,  7.6159e-01,  1.6677e+00,  3.2020e-01, -1.2645e+00,\n",
              "          8.2123e-01, -1.2120e+00, -9.6229e-01,  9.4392e-01,  1.4964e+00,\n",
              "         -3.0566e-01,  5.6539e+00,  2.1104e-02,  3.4862e+00, -4.9266e-01,\n",
              "          1.7780e-01,  2.7110e-01, -2.0877e+00,  2.0354e+00,  1.5375e-04,\n",
              "         -1.8857e+00,  1.4065e+00, -2.1460e+00,  1.0184e-01,  2.0339e+00,\n",
              "         -2.1786e-01,  1.5731e+00, -1.0329e+00,  8.1617e-01, -9.5529e-01,\n",
              "         -1.1303e+00, -2.0020e+00,  2.2640e-01,  4.4723e-02,  1.2820e+00,\n",
              "          2.9564e+00, -1.1466e+00,  1.6021e+00, -1.6136e+00, -5.8783e-01,\n",
              "          7.1962e-01, -3.8249e-01,  7.2683e-01,  3.4925e-01, -1.8863e+00,\n",
              "          2.1926e-01,  7.4527e-02,  6.6269e-01, -3.9922e-01, -2.5896e-01,\n",
              "          3.8229e-01, -1.4236e-01, -6.6616e-01, -3.3139e-01,  5.2021e-01,\n",
              "         -8.5636e-01, -1.2752e+00,  1.0434e+00, -5.8785e-01, -1.0004e+00,\n",
              "          8.4574e-01, -3.7685e-01, -2.1371e-01,  1.0595e-02,  1.1050e+00,\n",
              "         -1.1270e+00,  2.8781e+00,  1.3284e+00,  8.4033e-01, -4.9778e-01,\n",
              "          5.0282e-01,  1.2889e+00, -9.0766e-01,  3.2666e-01,  8.9305e-01,\n",
              "          1.9370e+00,  5.5293e-01,  3.2909e-01,  1.4435e+00, -5.6923e-01,\n",
              "          7.4987e-01,  1.7196e+00,  1.0777e+00, -1.9611e+00, -4.8487e-01,\n",
              "          2.5934e+00, -1.3000e+00,  2.9186e-01,  4.2169e-01, -6.1563e-01,\n",
              "         -2.3637e+00, -1.2907e+00, -3.2324e-01,  1.1503e+00,  8.4828e-01,\n",
              "         -4.5713e-01,  1.1836e+00, -5.9845e-01,  9.8112e-01, -1.7340e+00,\n",
              "          1.0250e+00,  9.5018e-01,  2.1071e-01, -1.5760e+00, -4.4409e-03,\n",
              "         -1.7929e+00, -3.5806e-01, -2.3819e-01,  1.7842e+00, -1.6657e-01,\n",
              "         -4.7525e-01, -5.6090e-01, -1.9365e+00, -3.1102e-01,  1.6444e+00,\n",
              "         -1.8315e+00, -2.5870e-01,  8.7953e-01,  1.0671e-01,  4.0940e-01,\n",
              "          2.3344e+00,  1.4161e-01, -9.6530e-01, -6.2343e-01,  1.9565e+00,\n",
              "          1.8993e+00,  4.5699e-01,  1.0715e+00,  2.9997e+00, -1.9509e-01,\n",
              "         -1.3114e+00,  1.9865e+00,  1.4284e+00, -3.9718e-01,  7.9024e-01,\n",
              "         -1.4581e-01, -1.3380e+00,  1.5878e-01, -8.7282e-01,  1.7206e+00,\n",
              "          2.9449e+00, -5.5305e-01, -3.3191e-01,  2.4942e+00, -1.1255e+00,\n",
              "          1.1645e+00,  4.0749e+00, -1.2041e+00,  2.6793e+00, -1.3955e+00,\n",
              "         -1.2132e+00,  7.4546e-01, -8.3768e-01,  1.6198e+00, -4.4944e-01,\n",
              "         -1.4003e+00, -2.1308e+00,  9.9839e-01, -4.6184e-01,  1.9656e+00,\n",
              "         -1.1177e+00, -5.7102e-01,  1.6440e+00,  8.2291e-01, -2.0979e+00,\n",
              "         -2.3614e+00,  7.7947e-01, -2.1148e+00, -2.0729e+00,  1.4143e+00,\n",
              "         -2.8176e+00,  7.1335e-01,  1.4816e+00, -4.3730e-01, -2.9649e+00,\n",
              "         -7.2006e-01,  1.4637e+00,  2.3094e-01, -5.4431e-01, -3.3252e-01,\n",
              "          3.5938e-01,  1.6022e+00,  4.5084e-01, -4.2179e-01, -1.0127e+00,\n",
              "          1.7939e-01,  3.6420e-01,  5.3690e+00, -2.1599e+00,  4.3422e-01,\n",
              "         -2.1846e-01,  2.5271e-01, -1.0083e-02, -1.9683e+00,  7.8980e-01,\n",
              "          1.8764e+00,  2.0631e+00, -1.4159e-01, -2.8643e+00, -1.0617e+00,\n",
              "          1.0184e+00,  5.6379e-02, -1.1439e+00, -1.0610e-01,  5.0969e-01,\n",
              "          1.5758e-01, -1.6516e+00,  1.2768e+00, -1.4809e+00, -2.0597e+00,\n",
              "         -1.5641e-02,  4.7372e-01, -1.5132e+00,  9.0216e-01, -2.5370e-01,\n",
              "         -5.7140e-01, -1.5144e+00,  8.9292e-01,  1.6323e+00, -1.2361e+00,\n",
              "          5.7227e-01, -1.0572e-01,  8.8893e-02, -1.8838e+00, -7.2140e-02,\n",
              "         -2.0070e+00,  1.9743e+00, -6.6349e-01, -1.4863e+00, -2.4191e+00,\n",
              "         -2.9948e+00, -1.6843e+00, -3.5334e-01,  1.8928e+00,  2.2875e+00,\n",
              "         -1.2935e+00,  1.0314e+00, -1.3262e-01, -2.9518e-02,  1.9922e+00,\n",
              "          6.2125e-02,  2.5483e+00,  1.9882e-02, -3.6872e+00,  2.0773e+00,\n",
              "          2.4272e+00,  7.0618e-01,  1.0271e+00, -2.0925e+00, -3.3857e+00,\n",
              "         -2.5130e+00,  1.2522e+00,  4.2692e-01,  5.3116e-01, -9.5332e-01,\n",
              "         -7.2319e-01,  1.2898e+00, -1.4443e+00,  8.2379e-02, -9.3007e-01,\n",
              "         -7.9014e-03,  4.6793e-01, -3.6415e-01, -1.6144e+00,  1.6513e+00,\n",
              "          1.0778e+00,  1.6711e+00,  9.3538e-01,  4.3423e-01, -5.3402e-01,\n",
              "         -1.0494e+00, -3.8969e-01, -4.6428e-01, -1.3849e+00,  1.2340e+00,\n",
              "         -6.7595e-01,  1.9678e-01, -5.2957e-01, -3.8702e-01, -7.8923e-01,\n",
              "         -5.8225e-01, -4.6972e-01, -6.9371e-01,  5.9962e-01,  6.1436e-01,\n",
              "         -1.2321e+00,  9.9816e-01,  1.1217e+00,  1.0724e+00,  1.0282e-01,\n",
              "         -6.8018e-01,  1.4040e+00, -5.6247e-01, -2.1234e+00,  1.8725e-01,\n",
              "         -4.9142e-01, -3.8143e-02, -1.5860e+00, -1.5642e+00, -3.5460e-01,\n",
              "         -1.2359e+00, -4.0931e-02,  9.0619e-01, -2.3653e-01,  1.6753e+00,\n",
              "         -1.8247e+00, -1.4534e-01, -2.7893e+00, -1.9409e+00, -1.8418e+00,\n",
              "         -1.0480e-01, -2.7906e+00,  1.6955e-01, -2.6151e-01, -2.4626e+00,\n",
              "         -4.1359e+00, -1.4355e-01, -1.3156e+00, -1.6449e+00, -1.1092e+00,\n",
              "         -7.1661e-01, -7.3993e-01,  1.3570e+00,  3.2895e-01,  4.3258e-01,\n",
              "         -5.3893e-01, -2.4619e+00, -9.1950e-01, -7.2593e-01, -4.0715e-01,\n",
              "          1.3633e+00,  1.1948e+00, -1.2543e+00,  1.9300e+00,  1.7142e+00]],\n",
              "       grad_fn=<AddmmBackward>)"
            ]
          },
          "metadata": {
            "tags": []
          },
          "execution_count": 12
        }
      ]
    },
    {
      "cell_type": "markdown",
      "metadata": {
        "id": "ofH-UlbcKStS"
      },
      "source": [
        "Class with highest Probability"
      ]
    },
    {
      "cell_type": "code",
      "metadata": {
        "colab": {
          "base_uri": "https://localhost:8080/"
        },
        "id": "27TMY7dy9vOm",
        "outputId": "e4ff9890-0282-4ca3-a430-32efc4eab608"
      },
      "source": [
        "torch.argmax(out)"
      ],
      "execution_count": 13,
      "outputs": [
        {
          "output_type": "execute_result",
          "data": {
            "text/plain": [
              "tensor(180)"
            ]
          },
          "metadata": {
            "tags": []
          },
          "execution_count": 13
        }
      ]
    },
    {
      "cell_type": "code",
      "metadata": {
        "id": "Kn8RqIK-_zkI"
      },
      "source": [
        "value,index = torch.max(out, 1)"
      ],
      "execution_count": 14,
      "outputs": []
    },
    {
      "cell_type": "code",
      "metadata": {
        "colab": {
          "base_uri": "https://localhost:8080/"
        },
        "id": "E7_7kONv_6r1",
        "outputId": "b68a96c0-e131-4d3a-e80b-96ca8b26d8f8"
      },
      "source": [
        "value,index"
      ],
      "execution_count": 15,
      "outputs": [
        {
          "output_type": "execute_result",
          "data": {
            "text/plain": [
              "(tensor([7.9876], grad_fn=<MaxBackward0>), tensor([180]))"
            ]
          },
          "metadata": {
            "tags": []
          },
          "execution_count": 15
        }
      ]
    },
    {
      "cell_type": "markdown",
      "metadata": {
        "id": "T3sdMz8RKYTv"
      },
      "source": [
        "Let's Check the respective label in Resnet labels file"
      ]
    },
    {
      "cell_type": "code",
      "metadata": {
        "id": "uul0JJai-OXi"
      },
      "source": [
        "with open('/content/drive/MyDrive/DataSets/imagenet1000_clsidx_to_labels.txt') as f:\n",
        "  labels = [line.strip() for line in f.readlines()]\n"
      ],
      "execution_count": 16,
      "outputs": []
    },
    {
      "cell_type": "code",
      "metadata": {
        "colab": {
          "base_uri": "https://localhost:8080/"
        },
        "id": "Uz3IwbX6AvY3",
        "outputId": "b325b272-7538-4a23-c2ef-609ef43325b7"
      },
      "source": [
        "percentage = F.softmax(out , dim=1)[0]*100\n",
        "labels[index[0]],percentage[index[0]].item()"
      ],
      "execution_count": 17,
      "outputs": [
        {
          "output_type": "execute_result",
          "data": {
            "text/plain": [
              "(\"180: 'American Staffordshire terrier, Staffordshire terrier, American pit bull terrier, pit bull terrier',\",\n",
              " 15.58975601196289)"
            ]
          },
          "metadata": {
            "tags": []
          },
          "execution_count": 17
        }
      ]
    },
    {
      "cell_type": "code",
      "metadata": {
        "colab": {
          "base_uri": "https://localhost:8080/"
        },
        "id": "LSmH3n6oCBmd",
        "outputId": "99b0c30f-c553-48f5-e2e3-2f18a02443d4"
      },
      "source": [
        "_, indices = torch.sort(out, descending=True)\n",
        "[(labels[idx], percentage[idx].item()) for idx in indices[0][:5]]"
      ],
      "execution_count": 18,
      "outputs": [
        {
          "output_type": "execute_result",
          "data": {
            "text/plain": [
              "[(\"180: 'American Staffordshire terrier, Staffordshire terrier, American pit bull terrier, pit bull terrier',\",\n",
              "  15.58975601196289),\n",
              " (\"273: 'dingo, warrigal, warragal, Canis dingo',\", 12.779728889465332),\n",
              " (\"208: 'Labrador retriever',\", 8.075196266174316),\n",
              " (\"151: 'Chihuahua',\", 8.052091598510742),\n",
              " (\"227: 'kelpie',\", 7.884716033935547)]"
            ]
          },
          "metadata": {
            "tags": []
          },
          "execution_count": 18
        }
      ]
    }
  ]
}